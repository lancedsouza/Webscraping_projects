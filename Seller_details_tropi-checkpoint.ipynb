{
 "cells": [
  {
   "cell_type": "code",
   "execution_count": 1,
   "id": "db61b5da-773c-4007-b0d7-3ac8ff1b8ded",
   "metadata": {},
   "outputs": [
    {
     "name": "stdout",
     "output_type": "stream",
     "text": [
      "Collecting pytesseract\n",
      "  Using cached pytesseract-0.3.13-py3-none-any.whl.metadata (11 kB)\n",
      "Collecting packaging>=21.3 (from pytesseract)\n",
      "  Downloading packaging-25.0-py3-none-any.whl.metadata (3.3 kB)\n",
      "Collecting Pillow>=8.0.0 (from pytesseract)\n",
      "  Using cached pillow-11.2.1-cp310-cp310-win_amd64.whl.metadata (9.1 kB)\n",
      "Using cached pytesseract-0.3.13-py3-none-any.whl (14 kB)\n",
      "Downloading packaging-25.0-py3-none-any.whl (66 kB)\n",
      "Using cached pillow-11.2.1-cp310-cp310-win_amd64.whl (2.7 MB)\n",
      "Installing collected packages: Pillow, packaging, pytesseract\n",
      "\n",
      "   ---------------------------------------- 0/3 [Pillow]\n",
      "   ---------------------------------------- 0/3 [Pillow]\n",
      "   ---------------------------------------- 0/3 [Pillow]\n",
      "   ---------------------------------------- 0/3 [Pillow]\n",
      "   ---------------------------------------- 0/3 [Pillow]\n",
      "   ---------------------------------------- 0/3 [Pillow]\n",
      "   ---------------------------------------- 0/3 [Pillow]\n",
      "   ---------------------------------------- 0/3 [Pillow]\n",
      "   ---------------------------------------- 0/3 [Pillow]\n",
      "   ---------------------------------------- 0/3 [Pillow]\n",
      "   ------------- -------------------------- 1/3 [packaging]\n",
      "   ------------- -------------------------- 1/3 [packaging]\n",
      "   ---------------------------------------- 3/3 [pytesseract]\n",
      "\n",
      "Successfully installed Pillow-11.2.1 packaging-25.0 pytesseract-0.3.13\n"
     ]
    }
   ],
   "source": [
    "!pip install pytesseract"
   ]
  },
  {
   "cell_type": "code",
   "execution_count": 4,
   "id": "cfcf0dca-0896-4eb5-955c-deaea87ddcc1",
   "metadata": {},
   "outputs": [
    {
     "name": "stdout",
     "output_type": "stream",
     "text": [
      "Collecting pdfplumber\n",
      "  Downloading pdfplumber-0.11.6-py3-none-any.whl (60 kB)\n",
      "     -------------------------------------- 60.2/60.2 kB 632.8 kB/s eta 0:00:00\n",
      "Requirement already satisfied: Pillow>=9.1 in c:\\users\\wishes lawrence\\anaconda3\\lib\\site-packages (from pdfplumber) (9.4.0)\n",
      "Collecting pypdfium2>=4.18.0\n",
      "  Downloading pypdfium2-4.30.1-py3-none-win_amd64.whl (3.0 MB)\n",
      "     ---------------------------------------- 3.0/3.0 MB 18.8 MB/s eta 0:00:00\n",
      "Collecting pdfminer.six==20250327\n",
      "  Downloading pdfminer_six-20250327-py3-none-any.whl (5.6 MB)\n",
      "     ---------------------------------------- 5.6/5.6 MB 22.4 MB/s eta 0:00:00\n",
      "Requirement already satisfied: charset-normalizer>=2.0.0 in c:\\users\\wishes lawrence\\anaconda3\\lib\\site-packages (from pdfminer.six==20250327->pdfplumber) (2.0.4)\n",
      "Requirement already satisfied: cryptography>=36.0.0 in c:\\users\\wishes lawrence\\anaconda3\\lib\\site-packages (from pdfminer.six==20250327->pdfplumber) (39.0.1)\n",
      "Requirement already satisfied: cffi>=1.12 in c:\\users\\wishes lawrence\\anaconda3\\lib\\site-packages (from cryptography>=36.0.0->pdfminer.six==20250327->pdfplumber) (1.15.1)\n",
      "Requirement already satisfied: pycparser in c:\\users\\wishes lawrence\\anaconda3\\lib\\site-packages (from cffi>=1.12->cryptography>=36.0.0->pdfminer.six==20250327->pdfplumber) (2.21)\n",
      "Installing collected packages: pypdfium2, pdfminer.six, pdfplumber\n",
      "Successfully installed pdfminer.six-20250327 pdfplumber-0.11.6 pypdfium2-4.30.1\n",
      "Note: you may need to restart the kernel to use updated packages.\n"
     ]
    }
   ],
   "source": [
    "pip install pdfplumber"
   ]
  },
  {
   "cell_type": "code",
   "execution_count": null,
   "id": "6cf0b878-2777-40e9-b64d-64b72dec56d6",
   "metadata": {},
   "outputs": [],
   "source": [
    "#Gemini code"
   ]
  },
  {
   "cell_type": "code",
   "execution_count": null,
   "id": "11233edf-23f4-4363-9c57-1cf377fe0ba2",
   "metadata": {},
   "outputs": [],
   "source": [
    "#Chatgpt Code"
   ]
  },
  {
   "cell_type": "code",
   "execution_count": 7,
   "id": "d8a97265-453c-4654-94f6-45db215b0f67",
   "metadata": {},
   "outputs": [
    {
     "name": "stdout",
     "output_type": "stream",
     "text": [
      "Requirement already satisfied: selenium in c:\\users\\wishes lawrence\\anaconda3\\lib\\site-packages (4.27.1)\n",
      "Requirement already satisfied: pytesseract in c:\\users\\wishes lawrence\\anaconda3\\lib\\site-packages (0.3.10)\n",
      "Requirement already satisfied: pandas in c:\\users\\wishes lawrence\\anaconda3\\lib\\site-packages (2.2.3)\n",
      "Collecting PyMuPDF\n",
      "  Downloading pymupdf-1.26.0-cp39-abi3-win_amd64.whl (18.5 MB)\n",
      "     --------------------------------------- 18.5/18.5 MB 36.4 MB/s eta 0:00:00\n",
      "Requirement already satisfied: pillow in c:\\users\\wishes lawrence\\anaconda3\\lib\\site-packages (9.4.0)\n",
      "Requirement already satisfied: certifi>=2021.10.8 in c:\\users\\wishes lawrence\\anaconda3\\lib\\site-packages (from selenium) (2024.12.14)\n",
      "Requirement already satisfied: trio-websocket~=0.9 in c:\\users\\wishes lawrence\\anaconda3\\lib\\site-packages (from selenium) (0.10.3)\n",
      "Requirement already satisfied: typing_extensions~=4.9 in c:\\users\\wishes lawrence\\anaconda3\\lib\\site-packages (from selenium) (4.12.2)\n",
      "Requirement already satisfied: websocket-client~=1.8 in c:\\users\\wishes lawrence\\anaconda3\\lib\\site-packages (from selenium) (1.8.0)\n",
      "Requirement already satisfied: trio~=0.17 in c:\\users\\wishes lawrence\\anaconda3\\lib\\site-packages (from selenium) (0.22.2)\n",
      "Requirement already satisfied: urllib3[socks]<3,>=1.26 in c:\\users\\wishes lawrence\\anaconda3\\lib\\site-packages (from selenium) (1.26.14)\n",
      "Requirement already satisfied: packaging>=21.3 in c:\\users\\wishes lawrence\\anaconda3\\lib\\site-packages (from pytesseract) (22.0)\n",
      "Requirement already satisfied: python-dateutil>=2.8.2 in c:\\users\\wishes lawrence\\anaconda3\\lib\\site-packages (from pandas) (2.8.2)\n",
      "Requirement already satisfied: numpy>=1.22.4 in c:\\users\\wishes lawrence\\anaconda3\\lib\\site-packages (from pandas) (1.23.5)\n",
      "Requirement already satisfied: pytz>=2020.1 in c:\\users\\wishes lawrence\\anaconda3\\lib\\site-packages (from pandas) (2022.7)\n",
      "Requirement already satisfied: tzdata>=2022.7 in c:\\users\\wishes lawrence\\anaconda3\\lib\\site-packages (from pandas) (2025.1)\n",
      "Requirement already satisfied: six>=1.5 in c:\\users\\wishes lawrence\\anaconda3\\lib\\site-packages (from python-dateutil>=2.8.2->pandas) (1.16.0)\n",
      "Requirement already satisfied: exceptiongroup>=1.0.0rc9 in c:\\users\\wishes lawrence\\anaconda3\\lib\\site-packages (from trio~=0.17->selenium) (1.1.2)\n",
      "Requirement already satisfied: sortedcontainers in c:\\users\\wishes lawrence\\anaconda3\\lib\\site-packages (from trio~=0.17->selenium) (2.4.0)\n",
      "Requirement already satisfied: cffi>=1.14 in c:\\users\\wishes lawrence\\anaconda3\\lib\\site-packages (from trio~=0.17->selenium) (1.15.1)\n",
      "Requirement already satisfied: idna in c:\\users\\wishes lawrence\\anaconda3\\lib\\site-packages (from trio~=0.17->selenium) (3.4)\n",
      "Requirement already satisfied: attrs>=20.1.0 in c:\\users\\wishes lawrence\\anaconda3\\lib\\site-packages (from trio~=0.17->selenium) (25.1.0)\n",
      "Requirement already satisfied: outcome in c:\\users\\wishes lawrence\\anaconda3\\lib\\site-packages (from trio~=0.17->selenium) (1.2.0)\n",
      "Requirement already satisfied: sniffio in c:\\users\\wishes lawrence\\anaconda3\\lib\\site-packages (from trio~=0.17->selenium) (1.2.0)\n",
      "Requirement already satisfied: wsproto>=0.14 in c:\\users\\wishes lawrence\\anaconda3\\lib\\site-packages (from trio-websocket~=0.9->selenium) (1.2.0)\n",
      "Requirement already satisfied: PySocks!=1.5.7,<2.0,>=1.5.6 in c:\\users\\wishes lawrence\\anaconda3\\lib\\site-packages (from urllib3[socks]<3,>=1.26->selenium) (1.7.1)\n",
      "Requirement already satisfied: pycparser in c:\\users\\wishes lawrence\\anaconda3\\lib\\site-packages (from cffi>=1.14->trio~=0.17->selenium) (2.21)\n",
      "Requirement already satisfied: h11<1,>=0.9.0 in c:\\users\\wishes lawrence\\anaconda3\\lib\\site-packages (from wsproto>=0.14->trio-websocket~=0.9->selenium) (0.14.0)\n",
      "Installing collected packages: PyMuPDF\n",
      "Successfully installed PyMuPDF-1.26.0\n",
      "Note: you may need to restart the kernel to use updated packages.\n"
     ]
    }
   ],
   "source": [
    "pip install selenium pytesseract pandas PyMuPDF pillow"
   ]
  },
  {
   "cell_type": "code",
   "execution_count": 12,
   "id": "9c2abc52-a6d3-4ad9-97dd-03b1feb61aeb",
   "metadata": {},
   "outputs": [
    {
     "name": "stdout",
     "output_type": "stream",
     "text": [
      "Collecting PyPDF2\n",
      "  Downloading pypdf2-3.0.1-py3-none-any.whl (232 kB)\n",
      "     -------------------------------------- 232.6/232.6 kB 1.6 MB/s eta 0:00:00\n",
      "Installing collected packages: PyPDF2\n",
      "Successfully installed PyPDF2-3.0.1\n",
      "Note: you may need to restart the kernel to use updated packages.\n"
     ]
    }
   ],
   "source": [
    "pip install PyPDF2\n"
   ]
  },
  {
   "cell_type": "code",
   "execution_count": 20,
   "id": "e350ff03-33f2-453c-a3f2-b26e1b21f299",
   "metadata": {},
   "outputs": [],
   "source": [
    "#deepseek"
   ]
  },
  {
   "cell_type": "code",
   "execution_count": 33,
   "id": "a5a2e3e1-f689-4fb5-a326-613f2d141f3f",
   "metadata": {},
   "outputs": [],
   "source": [
    "#Deepseek code at 6:15 (time)"
   ]
  },
  {
   "cell_type": "code",
   "execution_count": 32,
   "id": "5be36b22-9367-4a5f-9641-d27c7f2a5798",
   "metadata": {},
   "outputs": [
    {
     "name": "stdout",
     "output_type": "stream",
     "text": [
      "Requirement already satisfied: selenium in c:\\users\\wishes lawrence\\anaconda3\\lib\\site-packages (4.27.1)Note: you may need to restart the kernel to use updated packages.\n",
      "\n",
      "Requirement already satisfied: pytesseract in c:\\users\\wishes lawrence\\anaconda3\\lib\\site-packages (0.3.10)\n",
      "Requirement already satisfied: pillow in c:\\users\\wishes lawrence\\anaconda3\\lib\\site-packages (9.4.0)\n",
      "Requirement already satisfied: pdfplumber in c:\\users\\wishes lawrence\\anaconda3\\lib\\site-packages (0.11.6)\n",
      "Requirement already satisfied: pandas in c:\\users\\wishes lawrence\\anaconda3\\lib\\site-packages (2.2.3)\n",
      "Requirement already satisfied: urllib3[socks]<3,>=1.26 in c:\\users\\wishes lawrence\\anaconda3\\lib\\site-packages (from selenium) (1.26.14)\n",
      "Requirement already satisfied: websocket-client~=1.8 in c:\\users\\wishes lawrence\\anaconda3\\lib\\site-packages (from selenium) (1.8.0)\n",
      "Requirement already satisfied: typing_extensions~=4.9 in c:\\users\\wishes lawrence\\anaconda3\\lib\\site-packages (from selenium) (4.12.2)\n",
      "Requirement already satisfied: trio~=0.17 in c:\\users\\wishes lawrence\\anaconda3\\lib\\site-packages (from selenium) (0.22.2)\n",
      "Requirement already satisfied: trio-websocket~=0.9 in c:\\users\\wishes lawrence\\anaconda3\\lib\\site-packages (from selenium) (0.10.3)\n",
      "Requirement already satisfied: certifi>=2021.10.8 in c:\\users\\wishes lawrence\\anaconda3\\lib\\site-packages (from selenium) (2024.12.14)\n",
      "Requirement already satisfied: packaging>=21.3 in c:\\users\\wishes lawrence\\anaconda3\\lib\\site-packages (from pytesseract) (22.0)\n",
      "Requirement already satisfied: pypdfium2>=4.18.0 in c:\\users\\wishes lawrence\\anaconda3\\lib\\site-packages (from pdfplumber) (4.30.1)\n",
      "Requirement already satisfied: pdfminer.six==20250327 in c:\\users\\wishes lawrence\\anaconda3\\lib\\site-packages (from pdfplumber) (20250327)\n",
      "Requirement already satisfied: charset-normalizer>=2.0.0 in c:\\users\\wishes lawrence\\anaconda3\\lib\\site-packages (from pdfminer.six==20250327->pdfplumber) (2.0.4)\n",
      "Requirement already satisfied: cryptography>=36.0.0 in c:\\users\\wishes lawrence\\anaconda3\\lib\\site-packages (from pdfminer.six==20250327->pdfplumber) (39.0.1)\n",
      "Requirement already satisfied: numpy>=1.22.4 in c:\\users\\wishes lawrence\\anaconda3\\lib\\site-packages (from pandas) (1.23.5)\n",
      "Requirement already satisfied: pytz>=2020.1 in c:\\users\\wishes lawrence\\anaconda3\\lib\\site-packages (from pandas) (2022.7)\n",
      "Requirement already satisfied: python-dateutil>=2.8.2 in c:\\users\\wishes lawrence\\anaconda3\\lib\\site-packages (from pandas) (2.8.2)\n",
      "Requirement already satisfied: tzdata>=2022.7 in c:\\users\\wishes lawrence\\anaconda3\\lib\\site-packages (from pandas) (2025.1)\n",
      "Requirement already satisfied: six>=1.5 in c:\\users\\wishes lawrence\\anaconda3\\lib\\site-packages (from python-dateutil>=2.8.2->pandas) (1.16.0)\n",
      "Requirement already satisfied: outcome in c:\\users\\wishes lawrence\\anaconda3\\lib\\site-packages (from trio~=0.17->selenium) (1.2.0)\n",
      "Requirement already satisfied: idna in c:\\users\\wishes lawrence\\anaconda3\\lib\\site-packages (from trio~=0.17->selenium) (3.4)\n",
      "Requirement already satisfied: sniffio in c:\\users\\wishes lawrence\\anaconda3\\lib\\site-packages (from trio~=0.17->selenium) (1.2.0)\n",
      "Requirement already satisfied: cffi>=1.14 in c:\\users\\wishes lawrence\\anaconda3\\lib\\site-packages (from trio~=0.17->selenium) (1.15.1)\n",
      "Requirement already satisfied: exceptiongroup>=1.0.0rc9 in c:\\users\\wishes lawrence\\anaconda3\\lib\\site-packages (from trio~=0.17->selenium) (1.1.2)\n",
      "Requirement already satisfied: attrs>=20.1.0 in c:\\users\\wishes lawrence\\anaconda3\\lib\\site-packages (from trio~=0.17->selenium) (25.1.0)\n",
      "Requirement already satisfied: sortedcontainers in c:\\users\\wishes lawrence\\anaconda3\\lib\\site-packages (from trio~=0.17->selenium) (2.4.0)\n",
      "Requirement already satisfied: wsproto>=0.14 in c:\\users\\wishes lawrence\\anaconda3\\lib\\site-packages (from trio-websocket~=0.9->selenium) (1.2.0)\n",
      "Requirement already satisfied: PySocks!=1.5.7,<2.0,>=1.5.6 in c:\\users\\wishes lawrence\\anaconda3\\lib\\site-packages (from urllib3[socks]<3,>=1.26->selenium) (1.7.1)\n",
      "Requirement already satisfied: pycparser in c:\\users\\wishes lawrence\\anaconda3\\lib\\site-packages (from cffi>=1.14->trio~=0.17->selenium) (2.21)\n",
      "Requirement already satisfied: h11<1,>=0.9.0 in c:\\users\\wishes lawrence\\anaconda3\\lib\\site-packages (from wsproto>=0.14->trio-websocket~=0.9->selenium) (0.14.0)\n"
     ]
    }
   ],
   "source": [
    "pip install selenium pytesseract pillow pdfplumber pandas\n"
   ]
  },
  {
   "cell_type": "code",
   "execution_count": 10,
   "id": "96162ac5-44a6-4171-b9ad-ace8392d6f2b",
   "metadata": {},
   "outputs": [],
   "source": [
    "#Manual captcha solving"
   ]
  },
  {
   "cell_type": "code",
   "execution_count": 7,
   "id": "e7b7d41d-3ed4-4806-9cdc-f4d0aec33615",
   "metadata": {},
   "outputs": [],
   "source": [
    "#My code"
   ]
  },
  {
   "cell_type": "code",
   "execution_count": 31,
   "id": "d3e0ff22-32f3-4805-b93e-adcba7dc7b83",
   "metadata": {},
   "outputs": [
    {
     "ename": "SyntaxError",
     "evalue": "incomplete input (3049788137.py, line 101)",
     "output_type": "error",
     "traceback": [
      "\u001b[1;36m  Cell \u001b[1;32mIn[31], line 101\u001b[1;36m\u001b[0m\n\u001b[1;33m    captcha_input.send_keys(sec_catcha_text)\u001b[0m\n\u001b[1;37m                                            ^\u001b[0m\n\u001b[1;31mSyntaxError\u001b[0m\u001b[1;31m:\u001b[0m incomplete input\n"
     ]
    }
   ],
   "source": [
    "import os\n",
    "import base64\n",
    "import time\n",
    "import io\n",
    "from PIL import Image\n",
    "import pytesseract\n",
    "from selenium import webdriver\n",
    "from selenium.webdriver.support.ui import WebDriverWait, Select\n",
    "from selenium.webdriver.support import expected_conditions as EC\n",
    "from selenium.webdriver.common.by import By\n",
    "from selenium.webdriver.chrome.options import Options\n",
    "import traceback\n",
    "\n",
    "# CAPTCHA solving\n",
    "def solve_captcha(image_base64):\n",
    "    image_data = base64.b64decode(image_base64)\n",
    "    image = Image.open(io.BytesIO(image_data))\n",
    "    return pytesseract.image_to_string(image).strip()\n",
    "\n",
    "# Setup browser\n",
    "chrome_options = Options()\n",
    "chrome_options.add_argument(\"--disable-notifications\")\n",
    "driver = webdriver.Chrome(options=chrome_options)\n",
    "driver.maximize_window()\n",
    "wait = WebDriverWait(driver, 20)\n",
    "\n",
    "def remove_popups():\n",
    "    \"\"\"Remove Gem AI popups that block interaction.\"\"\"\n",
    "    for popup_id in [\"gemmy-text-item\", \"flox-text-item\", \"gemmyIcon\"]:\n",
    "        try:\n",
    "            driver.execute_script(f\"document.getElementById('{popup_id}')?.remove();\")\n",
    "        except:\n",
    "            pass\n",
    "\n",
    "try:\n",
    "    # Go to the contracts page\n",
    "    driver.get(\"https://gem.gov.in/view_contracts\")\n",
    "    time.sleep(2)\n",
    "\n",
    "    # Remove any initial popups\n",
    "    remove_popups()\n",
    "\n",
    "    # === Select category ===\n",
    "    products_name = \"Cardiac Troponin T TEST KIT\"\n",
    "    dropdown = Select(wait.until(EC.presence_of_element_located((By.ID, 'buyer_category'))))\n",
    "    dropdown.select_by_visible_text(products_name)\n",
    "    time.sleep(1)\n",
    "\n",
    "    # === Select contract date ===\n",
    "    date_input = wait.until(EC.element_to_be_clickable((By.ID, 'from_date_contract_search1')))\n",
    "    driver.execute_script(\"arguments[0].scrollIntoView({block:'center'});\", date_input)\n",
    "    date_input.click()\n",
    "\n",
    "    # Pick year and month\n",
    "    Select(wait.until(EC.presence_of_element_located((By.CLASS_NAME, 'ui-datepicker-year')))).select_by_visible_text(\"2024\")\n",
    "    Select(wait.until(EC.presence_of_element_located((By.CLASS_NAME, 'ui-datepicker-month')))).select_by_visible_text(\"Jan\")\n",
    "\n",
    "    # Select day\n",
    "    wait.until(EC.element_to_be_clickable((By.XPATH, '//a[text()=\"1\"]'))).click()\n",
    "\n",
    "    # === Solve CAPTCHA ===\n",
    "    time.sleep(2)\n",
    "    captcha_img = driver.find_element(By.ID, 'captchaimg1').get_attribute(\"src\").split(\",\")[1]\n",
    "    captcha_text = solve_captcha(captcha_img)\n",
    "\n",
    "    captcha_input = wait.until(EC.element_to_be_clickable((By.ID, \"captcha_code1\")))\n",
    "    driver.execute_script(\"arguments[0].scrollIntoView({block:'center'});\", captcha_input)\n",
    "    captcha_input.clear()\n",
    "    captcha_input.send_keys(captcha_text)\n",
    "\n",
    "    # Remove popups again (in case they reappeared)\n",
    "    remove_popups()\n",
    "\n",
    "    # Submit form\n",
    "    submit_btn = wait.until(EC.element_to_be_clickable((By.ID, \"searchlocation1\")))\n",
    "    submit_btn.click()\n",
    "\n",
    "    # === Wait for results ===\n",
    "    wait.until(EC.presence_of_element_located((By.ID, \"pagi_content\")))\n",
    "\n",
    "    # Remove popups again (if they reloaded)\n",
    "    remove_popups()\n",
    "\n",
    "    # === Click first contract ===\n",
    "    contract_link = wait.until(EC.element_to_be_clickable((By.XPATH, \"//a[contains(@onclick, 'openCap')]\")))\n",
    "    driver.execute_script(\"arguments[0].scrollIntoView({block:'center'});\", contract_link)\n",
    "    driver.execute_script(\"arguments[0].click();\", contract_link)\n",
    "\n",
    "    print(\"✅ Contract popup opened successfully\")\n",
    "\n",
    "#solve 2nd capchta\n",
    "    time.sleep(2)\n",
    "    #get the capcha image\n",
    "    sec_captcha=driver.find_element(By.ID,'captchaimg').get_attribute(\"src\")\n",
    "    sec_catcha_text=solve(sec_captcha)\n",
    "#Input capcha into field\n",
    "    time.sleep(2)\n",
    "    input_captcha=driver.find_element(By.ID,'captcha_code')\n",
    "    driver.execute_script(\"arguments[0].scrollIntoView({block:'center'});\", input_captcha)\n",
    "    captcha_input.clear()\n",
    "    captcha_input.send_keys(sec_catcha_text)\n",
    "#Press submit button\n",
    "    submit_buttn=driver.find_element(By.ID,'modelsbt')\n",
    "    submit_buttn.click()\n",
    "\n",
    "#Click download button\n",
    "    download_buttn=driver.find_element(By.CLASS,'btn btn-secondary').get_attribute('href')\n",
    "    btn btn-secondary.click()\n",
    "    \n",
    "    "
   ]
  },
  {
   "cell_type": "code",
   "execution_count": null,
   "id": "d393ba43-2133-4652-a360-9f51f54173e9",
   "metadata": {},
   "outputs": [],
   "source": [
    "#Code for all contract ids\n",
    "import os\n",
    "import base64\n",
    "import time\n",
    "import io\n",
    "from PIL import Image\n",
    "import pytesseract\n",
    "from selenium import webdriver\n",
    "from selenium.webdriver.support.ui import WebDriverWait, Select\n",
    "from selenium.webdriver.support import expected_conditions as EC\n",
    "from selenium.webdriver.common.by import By\n",
    "from selenium.webdriver.chrome.options import Options\n",
    "from selenium.webdriver.common.action_chains import ActionChains\n",
    "import traceback\n",
    "import requests\n",
    "\n",
    "# CAPTCHA solving\n",
    "def solve_captcha(image_base64):\n",
    "    image_data = base64.b64decode(image_base64)\n",
    "    image = Image.open(io.BytesIO(image_data))\n",
    "    return pytesseract.image_to_string(image).strip()\n",
    "\n",
    "# Setup browser\n",
    "chrome_options = Options()\n",
    "chrome_options.add_argument(\"--disable-notifications\")\n",
    "driver = webdriver.Chrome(options=chrome_options)\n",
    "driver.maximize_window()\n",
    "wait = WebDriverWait(driver, 20)\n",
    "\n",
    "def remove_popups():\n",
    "    for popup_id in [\"gemmy-text-item\", \"flox-text-item\", \"gemmyIcon\"]:\n",
    "        try:\n",
    "            driver.execute_script(f\"document.getElementById('{popup_id}')?.remove();\")\n",
    "        except:\n",
    "            pass\n",
    "\n",
    "try:\n",
    "    driver.get(\"https://gem.gov.in/view_contracts\")\n",
    "    time.sleep(2)\n",
    "    remove_popups()\n",
    "\n",
    "    # Select category\n",
    "    products_name = \"Cardiac Troponin T TEST KIT\"\n",
    "    dropdown = Select(wait.until(EC.presence_of_element_located((By.ID, 'buyer_category'))))\n",
    "    dropdown.select_by_visible_text(products_name)\n",
    "    time.sleep(1)\n",
    "\n",
    "    # Select date\n",
    "    date_input = wait.until(EC.element_to_be_clickable((By.ID, 'from_date_contract_search1')))\n",
    "    driver.execute_script(\"arguments[0].scrollIntoView({block:'center'});\", date_input)\n",
    "    date_input.click()\n",
    "    Select(wait.until(EC.presence_of_element_located((By.CLASS_NAME, 'ui-datepicker-year')))).select_by_visible_text(\"2024\")\n",
    "    Select(wait.until(EC.presence_of_element_located((By.CLASS_NAME, 'ui-datepicker-month')))).select_by_visible_text(\"Jan\")\n",
    "    wait.until(EC.element_to_be_clickable((By.XPATH, '//a[text()=\"1\"]'))).click()\n",
    "\n",
    "    # Solve CAPTCHA\n",
    "    time.sleep(2)\n",
    "    captcha_img = driver.find_element(By.ID, 'captchaimg1').get_attribute(\"src\").split(\",\")[1]\n",
    "    captcha_text = solve_captcha(captcha_img)\n",
    "\n",
    "    captcha_input = wait.until(EC.element_to_be_clickable((By.ID, \"captcha_code1\")))\n",
    "    captcha_input.clear()\n",
    "    captcha_input.send_keys(captcha_text)\n",
    "\n",
    "    remove_popups()\n",
    "    submit_btn = wait.until(EC.element_to_be_clickable((By.ID, \"searchlocation1\")))\n",
    "    submit_btn.click()\n",
    "\n",
    "    wait.until(EC.presence_of_element_located((By.ID, \"pagi_content\")))\n",
    "    remove_popups()\n",
    "\n",
    "    # Get all contract elements on page\n",
    "    contract_links = driver.find_elements(By.XPATH, \"//a[contains(@onclick, 'openCap')]\")\n",
    "    print(f\"🔍 Found {len(contract_links)} contracts on page.\")\n",
    "\n",
    "    for i in range(len(contract_links)):\n",
    "        contract_links = driver.find_elements(By.XPATH, \"//a[contains(@onclick, 'openCap')]\")\n",
    "        driver.execute_script(\"arguments[0].scrollIntoView({block:'center'});\", contract_links[i])\n",
    "        driver.execute_script(\"arguments[0].click();\", contract_links[i])\n",
    "\n",
    "        # Wait for 2nd CAPTCHA to load\n",
    "        time.sleep(2)\n",
    "        sec_captcha_img = driver.find_element(By.ID, 'captchaimg').get_attribute(\"src\").split(\",\")[1]\n",
    "        sec_captcha_text = solve_captcha(sec_captcha_img)\n",
    "\n",
    "        input_captcha = driver.find_element(By.ID, 'captcha_code')\n",
    "        input_captcha.clear()\n",
    "        input_captcha.send_keys(sec_captcha_text)\n",
    "\n",
    "        submit_button = driver.find_element(By.ID, 'modelsbt')\n",
    "        submit_button.click()\n",
    "        time.sleep(2)\n",
    "\n",
    "        # Download the PDF\n",
    "        pdf_link = driver.find_element(By.CSS_SELECTOR, \".btn.btn-secondary\").get_attribute('href')\n",
    "        pdf_data = requests.get(pdf_link).content\n",
    "\n",
    "        filename = f\"contract_{i+1}.pdf\"\n",
    "        with open(filename, \"wb\") as f:\n",
    "            f.write(pdf_data)\n",
    "        print(f\"✅ Downloaded {filename}\")\n",
    "\n",
    "        # Close the popup\n",
    "        driver.find_element(By.CLASS_NAME, 'close').click()\n",
    "        time.sleep(2)\n",
    "\n",
    "except Exception as e:\n",
    "    print(\"❌ Error occurred:\")\n",
    "    traceback.print_exc()\n",
    "\n",
    "finally:\n",
    "    time.sleep(10)\n",
    "    driver.quit()\n"
   ]
  },
  {
   "cell_type": "code",
   "execution_count": 38,
   "id": "50fcc9e0-dd71-4e27-bb29-1ff321015a52",
   "metadata": {},
   "outputs": [
    {
     "name": "stdout",
     "output_type": "stream",
     "text": [
      "🔍 Found 20 contracts.\n",
      "⚠️ Error processing contract contract_1: Download link not found or empty\n"
     ]
    },
    {
     "name": "stderr",
     "output_type": "stream",
     "text": [
      "Traceback (most recent call last):\n",
      "  File \"C:\\Users\\Wishes Lawrence\\AppData\\Local\\Temp\\ipykernel_14808\\737182006.py\", line 138, in <module>\n",
      "    raise RuntimeError(\"Download link not found or empty\")\n",
      "RuntimeError: Download link not found or empty\n"
     ]
    },
    {
     "name": "stdout",
     "output_type": "stream",
     "text": [
      "⚠️ Could not close popup or popup already closed.\n",
      "⚠️ Error processing contract contract_2: Download link not found or empty\n"
     ]
    },
    {
     "name": "stderr",
     "output_type": "stream",
     "text": [
      "Traceback (most recent call last):\n",
      "  File \"C:\\Users\\Wishes Lawrence\\AppData\\Local\\Temp\\ipykernel_14808\\737182006.py\", line 138, in <module>\n",
      "    raise RuntimeError(\"Download link not found or empty\")\n",
      "RuntimeError: Download link not found or empty\n"
     ]
    },
    {
     "name": "stdout",
     "output_type": "stream",
     "text": [
      "⚠️ Could not close popup or popup already closed.\n",
      "⚠️ Error processing contract contract_3: Download link not found or empty\n"
     ]
    },
    {
     "name": "stderr",
     "output_type": "stream",
     "text": [
      "Traceback (most recent call last):\n",
      "  File \"C:\\Users\\Wishes Lawrence\\AppData\\Local\\Temp\\ipykernel_14808\\737182006.py\", line 138, in <module>\n",
      "    raise RuntimeError(\"Download link not found or empty\")\n",
      "RuntimeError: Download link not found or empty\n"
     ]
    },
    {
     "name": "stdout",
     "output_type": "stream",
     "text": [
      "⚠️ Could not close popup or popup already closed.\n",
      "⚠️ Error processing contract contract_4: Download link not found or empty\n"
     ]
    },
    {
     "name": "stderr",
     "output_type": "stream",
     "text": [
      "Traceback (most recent call last):\n",
      "  File \"C:\\Users\\Wishes Lawrence\\AppData\\Local\\Temp\\ipykernel_14808\\737182006.py\", line 138, in <module>\n",
      "    raise RuntimeError(\"Download link not found or empty\")\n",
      "RuntimeError: Download link not found or empty\n"
     ]
    },
    {
     "name": "stdout",
     "output_type": "stream",
     "text": [
      "⚠️ Could not close popup or popup already closed.\n",
      "⚠️ Error processing contract contract_5: Download link not found or empty\n"
     ]
    },
    {
     "name": "stderr",
     "output_type": "stream",
     "text": [
      "Traceback (most recent call last):\n",
      "  File \"C:\\Users\\Wishes Lawrence\\AppData\\Local\\Temp\\ipykernel_14808\\737182006.py\", line 138, in <module>\n",
      "    raise RuntimeError(\"Download link not found or empty\")\n",
      "RuntimeError: Download link not found or empty\n"
     ]
    },
    {
     "name": "stdout",
     "output_type": "stream",
     "text": [
      "⚠️ Could not close popup or popup already closed.\n",
      "⚠️ Error processing contract contract_6: Download link not found or empty\n"
     ]
    },
    {
     "name": "stderr",
     "output_type": "stream",
     "text": [
      "Traceback (most recent call last):\n",
      "  File \"C:\\Users\\Wishes Lawrence\\AppData\\Local\\Temp\\ipykernel_14808\\737182006.py\", line 138, in <module>\n",
      "    raise RuntimeError(\"Download link not found or empty\")\n",
      "RuntimeError: Download link not found or empty\n"
     ]
    },
    {
     "name": "stdout",
     "output_type": "stream",
     "text": [
      "⚠️ Could not close popup or popup already closed.\n",
      "⚠️ Error processing contract contract_7: Download link not found or empty\n"
     ]
    },
    {
     "name": "stderr",
     "output_type": "stream",
     "text": [
      "Traceback (most recent call last):\n",
      "  File \"C:\\Users\\Wishes Lawrence\\AppData\\Local\\Temp\\ipykernel_14808\\737182006.py\", line 138, in <module>\n",
      "    raise RuntimeError(\"Download link not found or empty\")\n",
      "RuntimeError: Download link not found or empty\n"
     ]
    },
    {
     "name": "stdout",
     "output_type": "stream",
     "text": [
      "⚠️ Could not close popup or popup already closed.\n",
      "⚠️ Error processing contract contract_8: Download link not found or empty\n"
     ]
    },
    {
     "name": "stderr",
     "output_type": "stream",
     "text": [
      "Traceback (most recent call last):\n",
      "  File \"C:\\Users\\Wishes Lawrence\\AppData\\Local\\Temp\\ipykernel_14808\\737182006.py\", line 138, in <module>\n",
      "    raise RuntimeError(\"Download link not found or empty\")\n",
      "RuntimeError: Download link not found or empty\n"
     ]
    },
    {
     "name": "stdout",
     "output_type": "stream",
     "text": [
      "⚠️ Could not close popup or popup already closed.\n",
      "⚠️ Error processing contract contract_9: Download link not found or empty\n"
     ]
    },
    {
     "name": "stderr",
     "output_type": "stream",
     "text": [
      "Traceback (most recent call last):\n",
      "  File \"C:\\Users\\Wishes Lawrence\\AppData\\Local\\Temp\\ipykernel_14808\\737182006.py\", line 138, in <module>\n",
      "    raise RuntimeError(\"Download link not found or empty\")\n",
      "RuntimeError: Download link not found or empty\n"
     ]
    },
    {
     "name": "stdout",
     "output_type": "stream",
     "text": [
      "⚠️ Could not close popup or popup already closed.\n",
      "⚠️ Error processing contract contract_10: Download link not found or empty\n"
     ]
    },
    {
     "name": "stderr",
     "output_type": "stream",
     "text": [
      "Traceback (most recent call last):\n",
      "  File \"C:\\Users\\Wishes Lawrence\\AppData\\Local\\Temp\\ipykernel_14808\\737182006.py\", line 138, in <module>\n",
      "    raise RuntimeError(\"Download link not found or empty\")\n",
      "RuntimeError: Download link not found or empty\n"
     ]
    },
    {
     "name": "stdout",
     "output_type": "stream",
     "text": [
      "⚠️ Could not close popup or popup already closed.\n",
      "⚠️ Error processing contract contract_11: Download link not found or empty\n"
     ]
    },
    {
     "name": "stderr",
     "output_type": "stream",
     "text": [
      "Traceback (most recent call last):\n",
      "  File \"C:\\Users\\Wishes Lawrence\\AppData\\Local\\Temp\\ipykernel_14808\\737182006.py\", line 138, in <module>\n",
      "    raise RuntimeError(\"Download link not found or empty\")\n",
      "RuntimeError: Download link not found or empty\n"
     ]
    },
    {
     "name": "stdout",
     "output_type": "stream",
     "text": [
      "⚠️ Could not close popup or popup already closed.\n",
      "⚠️ Error processing contract contract_12: Download link not found or empty\n"
     ]
    },
    {
     "name": "stderr",
     "output_type": "stream",
     "text": [
      "Traceback (most recent call last):\n",
      "  File \"C:\\Users\\Wishes Lawrence\\AppData\\Local\\Temp\\ipykernel_14808\\737182006.py\", line 138, in <module>\n",
      "    raise RuntimeError(\"Download link not found or empty\")\n",
      "RuntimeError: Download link not found or empty\n"
     ]
    },
    {
     "name": "stdout",
     "output_type": "stream",
     "text": [
      "⚠️ Could not close popup or popup already closed.\n",
      "⚠️ Error processing contract contract_13: Download link not found or empty\n"
     ]
    },
    {
     "name": "stderr",
     "output_type": "stream",
     "text": [
      "Traceback (most recent call last):\n",
      "  File \"C:\\Users\\Wishes Lawrence\\AppData\\Local\\Temp\\ipykernel_14808\\737182006.py\", line 138, in <module>\n",
      "    raise RuntimeError(\"Download link not found or empty\")\n",
      "RuntimeError: Download link not found or empty\n"
     ]
    },
    {
     "name": "stdout",
     "output_type": "stream",
     "text": [
      "⚠️ Could not close popup or popup already closed.\n",
      "⚠️ Error processing contract contract_14: Download link not found or empty\n"
     ]
    },
    {
     "name": "stderr",
     "output_type": "stream",
     "text": [
      "Traceback (most recent call last):\n",
      "  File \"C:\\Users\\Wishes Lawrence\\AppData\\Local\\Temp\\ipykernel_14808\\737182006.py\", line 138, in <module>\n",
      "    raise RuntimeError(\"Download link not found or empty\")\n",
      "RuntimeError: Download link not found or empty\n"
     ]
    },
    {
     "name": "stdout",
     "output_type": "stream",
     "text": [
      "⚠️ Could not close popup or popup already closed.\n",
      "⚠️ Error processing contract contract_15: Download link not found or empty\n"
     ]
    },
    {
     "name": "stderr",
     "output_type": "stream",
     "text": [
      "Traceback (most recent call last):\n",
      "  File \"C:\\Users\\Wishes Lawrence\\AppData\\Local\\Temp\\ipykernel_14808\\737182006.py\", line 138, in <module>\n",
      "    raise RuntimeError(\"Download link not found or empty\")\n",
      "RuntimeError: Download link not found or empty\n"
     ]
    },
    {
     "name": "stdout",
     "output_type": "stream",
     "text": [
      "⚠️ Could not close popup or popup already closed.\n",
      "⚠️ Error processing contract contract_16: Download link not found or empty\n"
     ]
    },
    {
     "name": "stderr",
     "output_type": "stream",
     "text": [
      "Traceback (most recent call last):\n",
      "  File \"C:\\Users\\Wishes Lawrence\\AppData\\Local\\Temp\\ipykernel_14808\\737182006.py\", line 138, in <module>\n",
      "    raise RuntimeError(\"Download link not found or empty\")\n",
      "RuntimeError: Download link not found or empty\n"
     ]
    },
    {
     "name": "stdout",
     "output_type": "stream",
     "text": [
      "⚠️ Could not close popup or popup already closed.\n",
      "⚠️ Error processing contract contract_17: Download link not found or empty\n"
     ]
    },
    {
     "name": "stderr",
     "output_type": "stream",
     "text": [
      "Traceback (most recent call last):\n",
      "  File \"C:\\Users\\Wishes Lawrence\\AppData\\Local\\Temp\\ipykernel_14808\\737182006.py\", line 138, in <module>\n",
      "    raise RuntimeError(\"Download link not found or empty\")\n",
      "RuntimeError: Download link not found or empty\n"
     ]
    },
    {
     "name": "stdout",
     "output_type": "stream",
     "text": [
      "⚠️ Could not close popup or popup already closed.\n",
      "⚠️ Error processing contract contract_18: Download link not found or empty\n"
     ]
    },
    {
     "name": "stderr",
     "output_type": "stream",
     "text": [
      "Traceback (most recent call last):\n",
      "  File \"C:\\Users\\Wishes Lawrence\\AppData\\Local\\Temp\\ipykernel_14808\\737182006.py\", line 138, in <module>\n",
      "    raise RuntimeError(\"Download link not found or empty\")\n",
      "RuntimeError: Download link not found or empty\n"
     ]
    },
    {
     "name": "stdout",
     "output_type": "stream",
     "text": [
      "⚠️ Could not close popup or popup already closed.\n",
      "❌ General Error:\n"
     ]
    },
    {
     "name": "stderr",
     "output_type": "stream",
     "text": [
      "Traceback (most recent call last):\n",
      "  File \"C:\\Users\\Wishes Lawrence\\AppData\\Local\\Temp\\ipykernel_14808\\737182006.py\", line 97, in <module>\n",
      "    contract_elements = driver.find_elements(By.XPATH, \"//a[contains(@onclick, 'openCap')]\")\n",
      "  File \"C:\\Users\\Wishes Lawrence\\anaconda3\\lib\\site-packages\\selenium\\webdriver\\remote\\webdriver.py\", line 792, in find_elements\n",
      "    return self.execute(Command.FIND_ELEMENTS, {\"using\": by, \"value\": value})[\"value\"] or []\n",
      "  File \"C:\\Users\\Wishes Lawrence\\anaconda3\\lib\\site-packages\\selenium\\webdriver\\remote\\webdriver.py\", line 384, in execute\n",
      "    self.error_handler.check_response(response)\n",
      "  File \"C:\\Users\\Wishes Lawrence\\anaconda3\\lib\\site-packages\\selenium\\webdriver\\remote\\errorhandler.py\", line 232, in check_response\n",
      "    raise exception_class(message, screen, stacktrace)\n",
      "selenium.common.exceptions.InvalidSessionIdException: Message: invalid session id\n",
      "Stacktrace:\n",
      "\tGetHandleVerifier [0x0x7ff7c38ffe75+79173]\n",
      "\tGetHandleVerifier [0x0x7ff7c38ffed0+79264]\n",
      "\t(No symbol) [0x0x7ff7c36b9c8c]\n",
      "\t(No symbol) [0x0x7ff7c37005ef]\n",
      "\t(No symbol) [0x0x7ff7c3738832]\n",
      "\t(No symbol) [0x0x7ff7c3733233]\n",
      "\t(No symbol) [0x0x7ff7c37322f9]\n",
      "\t(No symbol) [0x0x7ff7c3685fc5]\n",
      "\tGetHandleVerifier [0x0x7ff7c3bca2ad+3004797]\n",
      "\tGetHandleVerifier [0x0x7ff7c3bc46fd+2981325]\n",
      "\tGetHandleVerifier [0x0x7ff7c3be3350+3107360]\n",
      "\tGetHandleVerifier [0x0x7ff7c391a9fe+188622]\n",
      "\tGetHandleVerifier [0x0x7ff7c392228f+219487]\n",
      "\t(No symbol) [0x0x7ff7c3685036]\n",
      "\tGetHandleVerifier [0x0x7ff7c3ce3c48+4158232]\n",
      "\tBaseThreadInitThunk [0x0x7ffcac17257d+29]\n",
      "\tRtlUserThreadStart [0x0x7ffcad26af08+40]\n",
      "\n"
     ]
    }
   ],
   "source": [
    "import os\n",
    "import base64\n",
    "import time\n",
    "import io\n",
    "import requests\n",
    "import traceback\n",
    "from PIL import Image\n",
    "import pytesseract\n",
    "from selenium import webdriver\n",
    "from selenium.webdriver.support.ui import WebDriverWait, Select\n",
    "from selenium.webdriver.support import expected_conditions as EC\n",
    "from selenium.webdriver.common.by import By\n",
    "from selenium.webdriver.chrome.options import Options\n",
    "\n",
    "# === CAPTCHA solving ===\n",
    "def solve_captcha(image_base64):\n",
    "    image_data = base64.b64decode(image_base64)\n",
    "    image = Image.open(io.BytesIO(image_data))\n",
    "    return pytesseract.image_to_string(image).strip()\n",
    "\n",
    "# === Remove annoying GeM popups ===\n",
    "def remove_popups(driver):\n",
    "    for popup_id in [\"gemmy-text-item\", \"flox-text-item\", \"gemmyIcon\"]:\n",
    "        try:\n",
    "            driver.execute_script(f\"document.getElementById('{popup_id}')?.remove();\")\n",
    "        except:\n",
    "            pass\n",
    "\n",
    "# === Setup download directory ===\n",
    "DOWNLOAD_DIR = \"Gem_contracts\"\n",
    "os.makedirs(DOWNLOAD_DIR, exist_ok=True)\n",
    "\n",
    "# === Setup browser ===\n",
    "chrome_options = Options()\n",
    "chrome_options.add_argument(\"--disable-notifications\")\n",
    "driver = webdriver.Chrome(options=chrome_options)\n",
    "driver.maximize_window()\n",
    "wait = WebDriverWait(driver, 20)\n",
    "\n",
    "try:\n",
    "    # === Go to contracts page ===\n",
    "    driver.get(\"https://gem.gov.in/view_contracts\")\n",
    "    time.sleep(2)\n",
    "    remove_popups(driver)\n",
    "\n",
    "    # === Select category ===\n",
    "    products_name = \"Cardiac Troponin T TEST KIT\"\n",
    "    dropdown = Select(wait.until(EC.presence_of_element_located((By.ID, 'buyer_category'))))\n",
    "    dropdown.select_by_visible_text(products_name)\n",
    "    time.sleep(1)\n",
    "\n",
    "    # === Select contract date ===\n",
    "    date_input = wait.until(EC.element_to_be_clickable((By.ID, 'from_date_contract_search1')))\n",
    "    driver.execute_script(\"arguments[0].scrollIntoView({block:'center'});\", date_input)\n",
    "    date_input.click()\n",
    "    Select(wait.until(EC.presence_of_element_located((By.CLASS_NAME, 'ui-datepicker-year')))).select_by_visible_text(\"2024\")\n",
    "    Select(wait.until(EC.presence_of_element_located((By.CLASS_NAME, 'ui-datepicker-month')))).select_by_visible_text(\"Jan\")\n",
    "    wait.until(EC.element_to_be_clickable((By.XPATH, '//a[text()=\"1\"]'))).click()\n",
    "\n",
    "    # === Solve first CAPTCHA ===\n",
    "    time.sleep(2)\n",
    "    captcha_img = driver.find_element(By.ID, 'captchaimg1').get_attribute(\"src\").split(\",\")[1]\n",
    "    captcha_text = solve_captcha(captcha_img)\n",
    "    captcha_input = wait.until(EC.element_to_be_clickable((By.ID, \"captcha_code1\")))\n",
    "    driver.execute_script(\"arguments[0].scrollIntoView({block:'center'});\", captcha_input)\n",
    "    captcha_input.clear()\n",
    "    captcha_input.send_keys(captcha_text)\n",
    "\n",
    "    remove_popups(driver)\n",
    "    submit_btn = wait.until(EC.element_to_be_clickable((By.ID, \"searchlocation1\")))\n",
    "    submit_btn.click()\n",
    "\n",
    "    # === Wait for contract results ===\n",
    "    # First wait for the container, then wait for links\n",
    "    wait.until(EC.presence_of_element_located((By.ID, \"pagi_content\")))\n",
    "    # remove popups in case they reappear\n",
    "    time.sleep(1)\n",
    "    remove_popups(driver)\n",
    "\n",
    "    # Now wait until at least one contract link appears (timeout after 10s if none)\n",
    "    try:\n",
    "        wait.until(EC.presence_of_all_elements_located((By.XPATH, \"//a[contains(@onclick, 'openCap')]\")))\n",
    "    except:\n",
    "        print(\"⚠️ No contract links found after search. Check category/date/CAPTCHA.\")\n",
    "        # Optionally, save page source or screenshot for debugging:\n",
    "        with open(\"debug_after_search.html\", \"w\", encoding=\"utf-8\") as f:\n",
    "            f.write(driver.page_source)\n",
    "        driver.save_screenshot(\"debug_after_search.png\")\n",
    "        raise RuntimeError(\"No contracts to process\")\n",
    "\n",
    "    # === Iterate over contracts ===\n",
    "    contract_elements = driver.find_elements(By.XPATH, \"//a[contains(@onclick, 'openCap')]\")\n",
    "    print(f\"🔍 Found {len(contract_elements)} contracts.\")\n",
    "\n",
    "    for i in range(len(contract_elements)):\n",
    "        # Refresh elements each loop to avoid stale references\n",
    "        contract_elements = driver.find_elements(By.XPATH, \"//a[contains(@onclick, 'openCap')]\")\n",
    "        if i >= len(contract_elements):\n",
    "            print(f\"⚠️ Index {i} out of range after refresh; stopping loop.\")\n",
    "            break\n",
    "        contract_element = contract_elements[i]\n",
    "\n",
    "        # Get Contract ID from the same row\n",
    "        try:\n",
    "            contract_row = contract_element.find_element(By.XPATH, \"./ancestor::tr\")\n",
    "            # Adjust the td index if needed; here assuming first <td> holds ID text\n",
    "            contract_id = contract_row.find_element(By.XPATH, \"./td[1]\").text.strip()\n",
    "            # Clean filename-friendly\n",
    "            fname = \"\".join(c for c in contract_id if c.isalnum() or c in \"-_\")\n",
    "            if not fname:\n",
    "                fname = f\"contract_{i+1}\"\n",
    "        except:\n",
    "            fname = f\"contract_{i+1}\"\n",
    "            contract_id = fname\n",
    "\n",
    "        # Open contract popup\n",
    "        driver.execute_script(\"arguments[0].scrollIntoView({block:'center'});\", contract_element)\n",
    "        driver.execute_script(\"arguments[0].click();\", contract_element)\n",
    "\n",
    "        try:\n",
    "            # === Solve second CAPTCHA inside popup ===\n",
    "            wait.until(EC.presence_of_element_located((By.ID, 'captchaimg')))\n",
    "            sec_captcha_img = driver.find_element(By.ID, 'captchaimg').get_attribute(\"src\").split(\",\")[1]\n",
    "            sec_captcha_text = solve_captcha(sec_captcha_img)\n",
    "\n",
    "            input_captcha = wait.until(EC.element_to_be_clickable((By.ID, 'captcha_code')))\n",
    "            driver.execute_script(\"arguments[0].scrollIntoView({block:'center'});\", input_captcha)\n",
    "            input_captcha.clear()\n",
    "            input_captcha.send_keys(sec_captcha_text)\n",
    "\n",
    "            submit_button = wait.until(EC.element_to_be_clickable((By.ID, 'modelsbt')))\n",
    "            submit_button.click()\n",
    "\n",
    "            # === Wait and download ===\n",
    "            download_btn = wait.until(EC.presence_of_element_located((By.CSS_SELECTOR, \".btn.btn-secondary\")))\n",
    "            pdf_link = download_btn.get_attribute(\"href\")\n",
    "            if not pdf_link:\n",
    "                raise RuntimeError(\"Download link not found or empty\")\n",
    "\n",
    "            # Download via requests\n",
    "            pdf_data = requests.get(pdf_link).content\n",
    "            filename = os.path.join(DOWNLOAD_DIR, f\"{fname}.pdf\")\n",
    "            with open(filename, \"wb\") as f:\n",
    "                f.write(pdf_data)\n",
    "            print(f\"✅ Downloaded: {filename}\")\n",
    "\n",
    "        except Exception as e:\n",
    "            print(f\"⚠️ Error processing contract {contract_id}: {e}\")\n",
    "            traceback.print_exc()\n",
    "\n",
    "        # === Close popup ===\n",
    "        try:\n",
    "            close_btn = wait.until(EC.element_to_be_clickable((By.CLASS_NAME, \"close\")))\n",
    "            close_btn.click()\n",
    "            time.sleep(1)\n",
    "            remove_popups(driver)\n",
    "        except:\n",
    "            print(\"⚠️ Could not close popup or popup already closed.\")\n",
    "\n",
    "        # small pause before next\n",
    "        time.sleep(1)\n",
    "\n",
    "except Exception as e:\n",
    "    print(\"❌ General Error:\")\n",
    "    traceback.print_exc()\n",
    "\n",
    "finally:\n",
    "    time.sleep(2)\n",
    "    driver.quit()\n"
   ]
  },
  {
   "cell_type": "markdown",
   "id": "8678db57-9b83-4ddb-810d-3ca5d4352872",
   "metadata": {},
   "source": [
    "\"\"\"sometimes the second captcha is entered incorrectly,how do we solve it .Do you think when the 2nd captcha is incorrectly entered then i should enter it manually\"\"\"\n"
   ]
  },
  {
   "cell_type": "code",
   "execution_count": 3,
   "id": "40c6db33-2bc8-4774-b509-c4189d435093",
   "metadata": {},
   "outputs": [
    {
     "name": "stdout",
     "output_type": "stream",
     "text": [
      "🔐 Please manually read and enter the CAPTCHA shown in the browser for the first step.\n"
     ]
    },
    {
     "name": "stdin",
     "output_type": "stream",
     "text": [
      "After entering the first CAPTCHA in the browser and clicking Search, press Enter here to continue... \n"
     ]
    },
    {
     "name": "stdout",
     "output_type": "stream",
     "text": [
      "✅ Detected results after manual CAPTCHA entry.\n",
      "🔍 Found 20 contracts on this page.\n",
      "📄 Opened contract popup for ID GEMC-511687735673166\n",
      "🔐 Please manually read and enter the CAPTCHA in the popup for contract GEMC-511687735673166.\n"
     ]
    },
    {
     "name": "stdin",
     "output_type": "stream",
     "text": [
      "After entering the second CAPTCHA in browser for GEMC-511687735673166 and clicking Submit/Open, press Enter here to continue... \n"
     ]
    },
    {
     "name": "stdout",
     "output_type": "stream",
     "text": [
      "✅ Downloaded: contracts\\GEMC-511687735673166.pdf\n",
      "📄 Opened contract popup for ID GEMC-511687799934996\n",
      "🔐 Please manually read and enter the CAPTCHA in the popup for contract GEMC-511687799934996.\n"
     ]
    },
    {
     "name": "stdin",
     "output_type": "stream",
     "text": [
      "After entering the second CAPTCHA in browser for GEMC-511687799934996 and clicking Submit/Open, press Enter here to continue... \n"
     ]
    },
    {
     "name": "stdout",
     "output_type": "stream",
     "text": [
      "✅ Downloaded: contracts\\GEMC-511687799934996.pdf\n",
      "📄 Opened contract popup for ID GEMC-511687732713185\n",
      "🔐 Please manually read and enter the CAPTCHA in the popup for contract GEMC-511687732713185.\n"
     ]
    },
    {
     "name": "stdin",
     "output_type": "stream",
     "text": [
      "After entering the second CAPTCHA in browser for GEMC-511687732713185 and clicking Submit/Open, press Enter here to continue... \n"
     ]
    },
    {
     "name": "stdout",
     "output_type": "stream",
     "text": [
      "✅ Downloaded: contracts\\GEMC-511687732713185.pdf\n",
      "📄 Opened contract popup for ID GEMC-511687766507433\n",
      "🔐 Please manually read and enter the CAPTCHA in the popup for contract GEMC-511687766507433.\n"
     ]
    },
    {
     "name": "stdin",
     "output_type": "stream",
     "text": [
      "After entering the second CAPTCHA in browser for GEMC-511687766507433 and clicking Submit/Open, press Enter here to continue... \n"
     ]
    },
    {
     "name": "stdout",
     "output_type": "stream",
     "text": [
      "❌ Download button not found for GEMC-511687766507433. Skipping.\n",
      "❌ Error occurred:\n"
     ]
    },
    {
     "name": "stderr",
     "output_type": "stream",
     "text": [
      "Traceback (most recent call last):\n",
      "  File \"C:\\Users\\Wishes Lawrence\\AppData\\Local\\Temp\\ipykernel_19764\\2265331639.py\", line 96, in <module>\n",
      "    anchors = driver.find_elements(By.XPATH, \"//a[contains(@onclick, 'openCap')]\")\n",
      "  File \"C:\\Users\\Wishes Lawrence\\anaconda3\\lib\\site-packages\\selenium\\webdriver\\remote\\webdriver.py\", line 792, in find_elements\n",
      "    return self.execute(Command.FIND_ELEMENTS, {\"using\": by, \"value\": value})[\"value\"] or []\n",
      "  File \"C:\\Users\\Wishes Lawrence\\anaconda3\\lib\\site-packages\\selenium\\webdriver\\remote\\webdriver.py\", line 384, in execute\n",
      "    self.error_handler.check_response(response)\n",
      "  File \"C:\\Users\\Wishes Lawrence\\anaconda3\\lib\\site-packages\\selenium\\webdriver\\remote\\errorhandler.py\", line 232, in check_response\n",
      "    raise exception_class(message, screen, stacktrace)\n",
      "selenium.common.exceptions.InvalidSessionIdException: Message: invalid session id\n",
      "Stacktrace:\n",
      "\tGetHandleVerifier [0x0x7ff7b014fe75+79173]\n",
      "\tGetHandleVerifier [0x0x7ff7b014fed0+79264]\n",
      "\t(No symbol) [0x0x7ff7aff09c8c]\n",
      "\t(No symbol) [0x0x7ff7aff505ef]\n",
      "\t(No symbol) [0x0x7ff7aff88832]\n",
      "\t(No symbol) [0x0x7ff7aff83233]\n",
      "\t(No symbol) [0x0x7ff7aff822f9]\n",
      "\t(No symbol) [0x0x7ff7afed5fc5]\n",
      "\tGetHandleVerifier [0x0x7ff7b041a2ad+3004797]\n",
      "\tGetHandleVerifier [0x0x7ff7b04146fd+2981325]\n",
      "\tGetHandleVerifier [0x0x7ff7b0433350+3107360]\n",
      "\tGetHandleVerifier [0x0x7ff7b016a9fe+188622]\n",
      "\tGetHandleVerifier [0x0x7ff7b017228f+219487]\n",
      "\t(No symbol) [0x0x7ff7afed5036]\n",
      "\tGetHandleVerifier [0x0x7ff7b0533c48+4158232]\n",
      "\tBaseThreadInitThunk [0x0x7ffcdca2257d+29]\n",
      "\tRtlUserThreadStart [0x0x7ffcdd3caf08+40]\n",
      "\n"
     ]
    }
   ],
   "source": [
    "import os\n",
    "import time\n",
    "import traceback\n",
    "import requests\n",
    "from selenium import webdriver\n",
    "from selenium.webdriver.chrome.service import Service\n",
    "from selenium.webdriver.chrome.options import Options\n",
    "from selenium.webdriver.support.ui import WebDriverWait, Select\n",
    "from selenium.webdriver.support import expected_conditions as EC\n",
    "from selenium.webdriver.common.by import By\n",
    "import re\n",
    "\n",
    "# === Settings ===\n",
    "DOWNLOAD_DIR = \"contracts\"\n",
    "os.makedirs(DOWNLOAD_DIR, exist_ok=True)\n",
    "\n",
    "# === Remove Gem popups ===\n",
    "def remove_popups(driver):\n",
    "    for popup_id in [\"gemmy-text-item\", \"flox-text-item\", \"gemmyIcon\"]:\n",
    "        try:\n",
    "            driver.execute_script(f\"document.getElementById('{popup_id}')?.remove();\")\n",
    "        except:\n",
    "            pass\n",
    "\n",
    "# === Initialize Chrome WebDriver ===\n",
    "def init_driver():\n",
    "    options = Options()\n",
    "    options.add_argument(\"--disable-notifications\")\n",
    "    options.add_argument(\"--start-maximized\")\n",
    "    # If ChromeDriver is not in PATH, set env var CHROMEDRIVER_PATH to its full path\n",
    "    chromedriver_path = os.getenv(\"CHROMEDRIVER_PATH\")\n",
    "    try:\n",
    "        if chromedriver_path:\n",
    "            service = Service(executable_path=chromedriver_path)\n",
    "            driver = webdriver.Chrome(service=service, options=options)\n",
    "        else:\n",
    "            driver = webdriver.Chrome(options=options)\n",
    "        return driver\n",
    "    except Exception:\n",
    "        print(\"❌ Failed to launch Chrome. Please ensure ChromeDriver is installed, matches your Chrome version, and is in PATH or set CHROMEDRIVER_PATH.\")\n",
    "        traceback.print_exc()\n",
    "        return None\n",
    "\n",
    "driver = init_driver()\n",
    "if not driver:\n",
    "    exit(1)\n",
    "\n",
    "wait = WebDriverWait(driver, 60)\n",
    "\n",
    "try:\n",
    "    # 1. Open GeM contracts page\n",
    "    driver.get(\"https://gem.gov.in/view_contracts\")\n",
    "    time.sleep(2)\n",
    "    remove_popups(driver)\n",
    "\n",
    "    # 2. Select category\n",
    "    products_name = \"Cardiac Troponin T TEST KIT\"  # adjust as needed\n",
    "    dropdown = Select(wait.until(EC.presence_of_element_located((By.ID, 'buyer_category'))))\n",
    "    dropdown.select_by_visible_text(products_name)\n",
    "    time.sleep(1)\n",
    "    remove_popups(driver)\n",
    "\n",
    "    # 3. Select date: 1 Jan 2024\n",
    "    date_input = wait.until(EC.element_to_be_clickable((By.ID, 'from_date_contract_search1')))\n",
    "    driver.execute_script(\"arguments[0].scrollIntoView({block:'center'});\", date_input)\n",
    "    date_input.click()\n",
    "    Select(wait.until(EC.presence_of_element_located((By.CLASS_NAME, 'ui-datepicker-year')))).select_by_visible_text(\"2024\")\n",
    "    Select(wait.until(EC.presence_of_element_located((By.CLASS_NAME, 'ui-datepicker-month')))).select_by_visible_text(\"Jan\")\n",
    "    wait.until(EC.element_to_be_clickable((By.XPATH, '//a[text()=\"1\"]'))).click()\n",
    "    remove_popups(driver)\n",
    "    time.sleep(1)\n",
    "\n",
    "    # === First CAPTCHA: manual entry ===\n",
    "    wait.until(EC.presence_of_element_located((By.ID, 'captchaimg1')))\n",
    "    print(\"🔐 Please manually read and enter the CAPTCHA shown in the browser for the first step.\")\n",
    "    input(\"After entering the first CAPTCHA in the browser and clicking Search, press Enter here to continue...\")\n",
    "\n",
    "    # Wait for results table\n",
    "    try:\n",
    "        wait.until(EC.presence_of_element_located((By.ID, \"pagi_content\")))\n",
    "        print(\"✅ Detected results after manual CAPTCHA entry.\")\n",
    "    except:\n",
    "        print(\"❌ Results not found after manual CAPTCHA. Exiting.\")\n",
    "        driver.quit()\n",
    "        exit(1)\n",
    "\n",
    "    remove_popups(driver)\n",
    "\n",
    "    # 4. Gather all contract links\n",
    "    anchors = driver.find_elements(By.XPATH, \"//a[contains(@onclick, 'openCap')]\")\n",
    "    print(f\"🔍 Found {len(anchors)} contracts on this page.\")\n",
    "\n",
    "    # 5. Loop through each contract\n",
    "    for idx in range(len(anchors)):\n",
    "        # Re-find anchors each iteration to avoid stale references\n",
    "        anchors = driver.find_elements(By.XPATH, \"//a[contains(@onclick, 'openCap')]\")\n",
    "        if idx >= len(anchors):\n",
    "            print(f\"⚠️ Index {idx} out of range; ending loop.\")\n",
    "            break\n",
    "        anchor = anchors[idx]\n",
    "        # Parse contract ID from onclick\n",
    "        onclick = anchor.get_attribute(\"onclick\") or \"\"\n",
    "        m = re.search(r\"openCap\\(['\\\"]([^'\\\"]+)['\\\"]\\)\", onclick)\n",
    "        cid = m.group(1) if m else f\"contract_{idx+1}\"\n",
    "        fname = \"\".join(c for c in cid if c.isalnum() or c in \"-_\") + \".pdf\"\n",
    "\n",
    "        # Click to open popup\n",
    "        try:\n",
    "            driver.execute_script(\"arguments[0].scrollIntoView({block:'center'});\", anchor)\n",
    "            driver.execute_script(\"arguments[0].click();\", anchor)\n",
    "            print(f\"📄 Opened contract popup for ID {cid}\")\n",
    "        except Exception:\n",
    "            print(f\"⚠️ Cannot click contract {cid}; skipping.\")\n",
    "            continue\n",
    "\n",
    "        time.sleep(1)\n",
    "        remove_popups(driver)\n",
    "\n",
    "        # === Second CAPTCHA: manual entry ===\n",
    "        try:\n",
    "            wait.until(EC.presence_of_element_located((By.ID, 'captchaimg')))\n",
    "            print(f\"🔐 Please manually read and enter the CAPTCHA in the popup for contract {cid}.\")\n",
    "            input(f\"After entering the second CAPTCHA in browser for {cid} and clicking Submit/Open, press Enter here to continue...\")\n",
    "        except:\n",
    "            print(f\"❌ Second CAPTCHA image not found for {cid}; attempting to proceed.\")\n",
    "\n",
    "        # Wait for download button\n",
    "        download_btn = None\n",
    "        for attempt in range(5):\n",
    "            remove_popups(driver)\n",
    "            try:\n",
    "                download_btn = driver.find_element(By.CSS_SELECTOR, \".btn.btn-secondary\")\n",
    "            except:\n",
    "                download_btn = None\n",
    "            if download_btn:\n",
    "                break\n",
    "            time.sleep(1)\n",
    "        if not download_btn:\n",
    "            print(f\"❌ Download button not found for {cid}. Skipping.\")\n",
    "            # Close popup if possible\n",
    "            try:\n",
    "                driver.find_element(By.CLASS_NAME, \"close\").click()\n",
    "                time.sleep(1)\n",
    "                remove_popups(driver)\n",
    "            except:\n",
    "                pass\n",
    "            continue\n",
    "\n",
    "        # Download PDF\n",
    "        pdf_link = download_btn.get_attribute(\"href\")\n",
    "        if not pdf_link:\n",
    "            print(f\"❌ Empty download link for {cid}; skipping.\")\n",
    "        else:\n",
    "            filepath = os.path.join(DOWNLOAD_DIR, fname)\n",
    "            try:\n",
    "                data = requests.get(pdf_link).content\n",
    "                with open(filepath, \"wb\") as f:\n",
    "                    f.write(data)\n",
    "                print(f\"✅ Downloaded: {filepath}\")\n",
    "            except Exception as e:\n",
    "                print(f\"❌ Error downloading PDF for {cid}: {e}\")\n",
    "\n",
    "        # Close popup\n",
    "        try:\n",
    "            driver.find_element(By.CLASS_NAME, \"close\").click()\n",
    "            time.sleep(1)\n",
    "            remove_popups(driver)\n",
    "        except:\n",
    "            pass\n",
    "\n",
    "except Exception as e:\n",
    "    print(\"❌ Error occurred:\")\n",
    "    traceback.print_exc()\n",
    "finally:\n",
    "    time.sleep(2)\n",
    "    driver.quit()\n"
   ]
  },
  {
   "cell_type": "code",
   "execution_count": 2,
   "id": "438e3a35-b587-43c7-a676-8930ffda14ec",
   "metadata": {},
   "outputs": [
    {
     "name": "stdout",
     "output_type": "stream",
     "text": [
      "❌ Error occurred:\n"
     ]
    },
    {
     "name": "stderr",
     "output_type": "stream",
     "text": [
      "Traceback (most recent call last):\n",
      "  File \"C:\\Users\\Wishes Lawrence\\AppData\\Local\\Temp\\ipykernel_9800\\1897610371.py\", line 58, in <module>\n",
      "    dropdown = Select(wait.until(EC.presence_of_element_located((By.ID, 'buyer_category'))))\n",
      "  File \"C:\\Users\\Wishes Lawrence\\anaconda3\\lib\\site-packages\\selenium\\webdriver\\support\\wait.py\", line 96, in until\n",
      "    value = method(self._driver)\n",
      "  File \"C:\\Users\\Wishes Lawrence\\anaconda3\\lib\\site-packages\\selenium\\webdriver\\support\\expected_conditions.py\", line 84, in _predicate\n",
      "    return driver.find_element(*locator)\n",
      "  File \"C:\\Users\\Wishes Lawrence\\anaconda3\\lib\\site-packages\\selenium\\webdriver\\remote\\webdriver.py\", line 770, in find_element\n",
      "    return self.execute(Command.FIND_ELEMENT, {\"using\": by, \"value\": value})[\"value\"]\n",
      "  File \"C:\\Users\\Wishes Lawrence\\anaconda3\\lib\\site-packages\\selenium\\webdriver\\remote\\webdriver.py\", line 384, in execute\n",
      "    self.error_handler.check_response(response)\n",
      "  File \"C:\\Users\\Wishes Lawrence\\anaconda3\\lib\\site-packages\\selenium\\webdriver\\remote\\errorhandler.py\", line 232, in check_response\n",
      "    raise exception_class(message, screen, stacktrace)\n",
      "selenium.common.exceptions.NoSuchWindowException: Message: no such window: target window already closed\n",
      "from unknown error: web view not found\n",
      "  (Session info: chrome=137.0.7151.104)\n",
      "Stacktrace:\n",
      "\tGetHandleVerifier [0x0x7ff78476fe75+79173]\n",
      "\tGetHandleVerifier [0x0x7ff78476fed0+79264]\n",
      "\t(No symbol) [0x0x7ff784529e5a]\n",
      "\t(No symbol) [0x0x7ff7845020f1]\n",
      "\t(No symbol) [0x0x7ff7845b017e]\n",
      "\t(No symbol) [0x0x7ff7845d0922]\n",
      "\t(No symbol) [0x0x7ff7845a8743]\n",
      "\t(No symbol) [0x0x7ff7845714c1]\n",
      "\t(No symbol) [0x0x7ff784572253]\n",
      "\tGetHandleVerifier [0x0x7ff784a3a2ad+3004797]\n",
      "\tGetHandleVerifier [0x0x7ff784a346fd+2981325]\n",
      "\tGetHandleVerifier [0x0x7ff784a53350+3107360]\n",
      "\tGetHandleVerifier [0x0x7ff78478a9fe+188622]\n",
      "\tGetHandleVerifier [0x0x7ff78479228f+219487]\n",
      "\tGetHandleVerifier [0x0x7ff784778dc4+115860]\n",
      "\tGetHandleVerifier [0x0x7ff784778f79+116297]\n",
      "\tGetHandleVerifier [0x0x7ff78475f528+11256]\n",
      "\tBaseThreadInitThunk [0x0x7ff9b1f1257d+29]\n",
      "\tRtlUserThreadStart [0x0x7ff9b338af08+40]\n",
      "\n"
     ]
    }
   ],
   "source": [
    "import os\n",
    "import time\n",
    "import traceback\n",
    "import requests\n",
    "from selenium import webdriver\n",
    "from selenium.webdriver.chrome.service import Service\n",
    "from selenium.webdriver.chrome.options import Options\n",
    "from selenium.webdriver.support.ui import WebDriverWait, Select\n",
    "from selenium.webdriver.support import expected_conditions as EC\n",
    "from selenium.webdriver.common.by import By\n",
    "import re\n",
    "\n",
    "# === Settings ===\n",
    "DOWNLOAD_DIR = \"contracts\"\n",
    "os.makedirs(DOWNLOAD_DIR, exist_ok=True)  # ensure folder exists\n",
    "\n",
    "# === Remove Gem popups ===\n",
    "def remove_popups(driver):\n",
    "    for popup_id in [\"gemmy-text-item\", \"flox-text-item\", \"gemmyIcon\"]:\n",
    "        try:\n",
    "            driver.execute_script(f\"document.getElementById('{popup_id}')?.remove();\")\n",
    "        except:\n",
    "            pass\n",
    "\n",
    "# === Initialize Chrome WebDriver ===\n",
    "def init_driver():\n",
    "    options = Options()\n",
    "    options.add_argument(\"--disable-notifications\")\n",
    "    options.add_argument(\"--start-maximized\")\n",
    "    # If ChromeDriver not in PATH, set CHROMEDRIVER_PATH env var\n",
    "    chromedriver_path = os.getenv(\"CHROMEDRIVER_PATH\")\n",
    "    try:\n",
    "        if chromedriver_path:\n",
    "            service = Service(executable_path=chromedriver_path)\n",
    "            drv = webdriver.Chrome(service=service, options=options)\n",
    "        else:\n",
    "            drv = webdriver.Chrome(options=options)\n",
    "        return drv\n",
    "    except Exception:\n",
    "        print(\"❌ Failed to launch Chrome. Ensure ChromeDriver is installed and matches Chrome version.\")\n",
    "        traceback.print_exc()\n",
    "        return None\n",
    "\n",
    "driver = init_driver()\n",
    "if not driver:\n",
    "    exit(1)\n",
    "\n",
    "wait = WebDriverWait(driver, 60)\n",
    "\n",
    "try:\n",
    "    # 1. Open GeM contracts page\n",
    "    driver.get(\"https://gem.gov.in/view_contracts\")\n",
    "    time.sleep(2)\n",
    "    remove_popups(driver)\n",
    "\n",
    "    # 2. Select category (adjust as needed)\n",
    "    products_name = \"Cardiac Troponin T TEST KIT\"\n",
    "    dropdown = Select(wait.until(EC.presence_of_element_located((By.ID, 'buyer_category'))))\n",
    "    dropdown.select_by_visible_text(products_name)\n",
    "    time.sleep(1)\n",
    "    remove_popups(driver)\n",
    "\n",
    "    # 3. Select date: 1 Jan 2024 (adjust if needed)\n",
    "    date_input = wait.until(EC.element_to_be_clickable((By.ID, 'from_date_contract_search1')))\n",
    "    driver.execute_script(\"arguments[0].scrollIntoView({block:'center'});\", date_input)\n",
    "    date_input.click()\n",
    "    Select(wait.until(EC.presence_of_element_located((By.CLASS_NAME, 'ui-datepicker-year')))).select_by_visible_text(\"2024\")\n",
    "    Select(wait.until(EC.presence_of_element_located((By.CLASS_NAME, 'ui-datepicker-month')))).select_by_visible_text(\"Jan\")\n",
    "    wait.until(EC.element_to_be_clickable((By.XPATH, '//a[text()=\"1\"]'))).click()\n",
    "    remove_popups(driver)\n",
    "    time.sleep(1)\n",
    "\n",
    "    # === First CAPTCHA: manual entry ===\n",
    "    wait.until(EC.presence_of_element_located((By.ID, 'captchaimg1')))\n",
    "    print(\"🔐 Please manually read and enter the CAPTCHA shown in the browser for the first step.\")\n",
    "    input(\"After entering the first CAPTCHA in the browser and clicking Search, press Enter here to continue...\")\n",
    "\n",
    "    # Wait for results table\n",
    "    try:\n",
    "        wait.until(EC.presence_of_element_located((By.ID, \"pagi_content\")))\n",
    "        print(\"✅ Detected results after manual CAPTCHA entry.\")\n",
    "    except:\n",
    "        print(\"❌ Results not found after manual CAPTCHA. Exiting.\")\n",
    "        driver.quit()\n",
    "        exit(1)\n",
    "\n",
    "    remove_popups(driver)\n",
    "\n",
    "    # 4. Gather all contract links on the page\n",
    "    anchors = driver.find_elements(By.XPATH, \"//a[contains(@onclick, 'openCap')]\")\n",
    "    print(f\"🔍 Found {len(anchors)} contracts on this page.\")\n",
    "\n",
    "    # 5. Loop through each contract\n",
    "    for idx in range(len(anchors)):\n",
    "        # Re-find anchors each iteration to avoid stale references\n",
    "        anchors = driver.find_elements(By.XPATH, \"//a[contains(@onclick, 'openCap')]\")\n",
    "        if idx >= len(anchors):\n",
    "            print(f\"⚠️ Index {idx} out of range; ending loop.\")\n",
    "            break\n",
    "        anchor = anchors[idx]\n",
    "\n",
    "        # Parse contract ID from onclick, for filename\n",
    "        onclick = anchor.get_attribute(\"onclick\") or \"\"\n",
    "        m = re.search(r\"openCap\\(['\\\"]([^'\\\"]+)['\\\"]\\)\", onclick)\n",
    "        if m:\n",
    "            cid = m.group(1)\n",
    "            fname = \"\".join(c for c in cid if c.isalnum() or c in \"-_\") + \".pdf\"\n",
    "        else:\n",
    "            cid = f\"contract_{idx+1}\"\n",
    "            fname = f\"{cid}.pdf\"\n",
    "\n",
    "        # Click to open popup\n",
    "        try:\n",
    "            driver.execute_script(\"arguments[0].scrollIntoView({block:'center'});\", anchor)\n",
    "            driver.execute_script(\"arguments[0].click();\", anchor)\n",
    "            print(f\"📄 Opened contract popup for ID {cid}\")\n",
    "        except Exception:\n",
    "            print(f\"⚠️ Cannot click contract {cid}; skipping.\")\n",
    "            continue\n",
    "\n",
    "        time.sleep(1)\n",
    "        remove_popups(driver)\n",
    "\n",
    "        # === Second CAPTCHA: manual entry ===\n",
    "        try:\n",
    "            wait.until(EC.presence_of_element_located((By.ID, 'captchaimg')))\n",
    "            print(f\"🔐 Please manually read and enter the CAPTCHA in the popup for contract {cid}.\")\n",
    "            input(f\"After entering the second CAPTCHA in browser for {cid} and clicking Submit/Open, press Enter here to continue...\")\n",
    "        except:\n",
    "            print(f\"❌ Second CAPTCHA image not found for {cid}; attempting to proceed.\")\n",
    "\n",
    "        # Wait for download button\n",
    "        download_btn = None\n",
    "        for attempt in range(5):\n",
    "            remove_popups(driver)\n",
    "            try:\n",
    "                download_btn = driver.find_element(By.CSS_SELECTOR, \".btn.btn-secondary\")\n",
    "            except:\n",
    "                download_btn = None\n",
    "            if download_btn:\n",
    "                break\n",
    "            time.sleep(1)\n",
    "        if not download_btn:\n",
    "            print(f\"❌ Download button not found for {cid}. Skipping.\")\n",
    "            # Close popup if possible\n",
    "            try:\n",
    "                driver.find_element(By.CLASS_NAME, \"close\").click()\n",
    "                time.sleep(1)\n",
    "                remove_popups(driver)\n",
    "            except:\n",
    "                pass\n",
    "            continue\n",
    "\n",
    "        # Download PDF into DOWNLOAD_DIR\n",
    "        pdf_link = download_btn.get_attribute(\"href\")\n",
    "        if not pdf_link:\n",
    "            print(f\"❌ Empty download link for {cid}; skipping.\")\n",
    "        else:\n",
    "            filepath = os.path.join(DOWNLOAD_DIR, fname)\n",
    "            try:\n",
    "                data = requests.get(pdf_link).content\n",
    "                with open(filepath, \"wb\") as f:\n",
    "                    f.write(data)\n",
    "                print(f\"✅ Downloaded: {filepath}\")\n",
    "            except Exception as e:\n",
    "                print(f\"❌ Error downloading PDF for {cid}: {e}\")\n",
    "\n",
    "        # Close popup before next\n",
    "        try:\n",
    "            driver.find_element(By.CLASS_NAME, \"close\").click()\n",
    "            time.sleep(1)\n",
    "            remove_popups(driver)\n",
    "        except:\n",
    "            pass\n",
    "\n",
    "except Exception as e:\n",
    "    print(\"❌ Error occurred:\")\n",
    "    traceback.print_exc()\n",
    "finally:\n",
    "    time.sleep(2)\n",
    "    driver.quit()\n"
   ]
  },
  {
   "cell_type": "markdown",
   "id": "ac0da9a2-e4b4-4a8e-9fcc-1346465608e4",
   "metadata": {},
   "source": [
    "Final cod for downloading pdfs"
   ]
  },
  {
   "cell_type": "code",
   "execution_count": 3,
   "id": "53438557-6541-4cfe-a470-8b672a078d6c",
   "metadata": {},
   "outputs": [
    {
     "name": "stdout",
     "output_type": "stream",
     "text": [
      "🔐 Please manually read and enter the CAPTCHA shown in the browser for the first step.\n"
     ]
    },
    {
     "name": "stdin",
     "output_type": "stream",
     "text": [
      "After entering the first CAPTCHA in the browser and clicking Search, press Enter here to continue... \n"
     ]
    },
    {
     "name": "stdout",
     "output_type": "stream",
     "text": [
      "✅ Detected results after manual CAPTCHA entry.\n",
      "🔍 Found 20 contracts on this page.\n",
      "📄 Opened contract popup for ID GEMC-511687735673166\n",
      "🔐 Please manually read and enter the CAPTCHA in the popup for contract GEMC-511687735673166.\n"
     ]
    },
    {
     "name": "stdin",
     "output_type": "stream",
     "text": [
      "After entering the second CAPTCHA in browser for GEMC-511687735673166 and clicking Submit/Open, press Enter here to continue... \n"
     ]
    },
    {
     "name": "stdout",
     "output_type": "stream",
     "text": [
      "❌ Download button not found for GEMC-511687735673166. Skipping.\n",
      "❌ Error occurred:\n"
     ]
    },
    {
     "name": "stderr",
     "output_type": "stream",
     "text": [
      "Traceback (most recent call last):\n",
      "  File \"C:\\Users\\Wishes Lawrence\\AppData\\Local\\Temp\\ipykernel_9800\\1897610371.py\", line 96, in <module>\n",
      "    anchors = driver.find_elements(By.XPATH, \"//a[contains(@onclick, 'openCap')]\")\n",
      "  File \"C:\\Users\\Wishes Lawrence\\anaconda3\\lib\\site-packages\\selenium\\webdriver\\remote\\webdriver.py\", line 792, in find_elements\n",
      "    return self.execute(Command.FIND_ELEMENTS, {\"using\": by, \"value\": value})[\"value\"] or []\n",
      "  File \"C:\\Users\\Wishes Lawrence\\anaconda3\\lib\\site-packages\\selenium\\webdriver\\remote\\webdriver.py\", line 384, in execute\n",
      "    self.error_handler.check_response(response)\n",
      "  File \"C:\\Users\\Wishes Lawrence\\anaconda3\\lib\\site-packages\\selenium\\webdriver\\remote\\errorhandler.py\", line 232, in check_response\n",
      "    raise exception_class(message, screen, stacktrace)\n",
      "selenium.common.exceptions.InvalidSessionIdException: Message: invalid session id\n",
      "Stacktrace:\n",
      "\tGetHandleVerifier [0x0x7ff6a8c6fe75+79173]\n",
      "\tGetHandleVerifier [0x0x7ff6a8c6fed0+79264]\n",
      "\t(No symbol) [0x0x7ff6a8a29c8c]\n",
      "\t(No symbol) [0x0x7ff6a8a705ef]\n",
      "\t(No symbol) [0x0x7ff6a8aa8832]\n",
      "\t(No symbol) [0x0x7ff6a8aa3233]\n",
      "\t(No symbol) [0x0x7ff6a8aa22f9]\n",
      "\t(No symbol) [0x0x7ff6a89f5fc5]\n",
      "\tGetHandleVerifier [0x0x7ff6a8f3a2ad+3004797]\n",
      "\tGetHandleVerifier [0x0x7ff6a8f346fd+2981325]\n",
      "\tGetHandleVerifier [0x0x7ff6a8f53350+3107360]\n",
      "\tGetHandleVerifier [0x0x7ff6a8c8a9fe+188622]\n",
      "\tGetHandleVerifier [0x0x7ff6a8c9228f+219487]\n",
      "\t(No symbol) [0x0x7ff6a89f5036]\n",
      "\tGetHandleVerifier [0x0x7ff6a9053c48+4158232]\n",
      "\tBaseThreadInitThunk [0x0x7ff9b1f1257d+29]\n",
      "\tRtlUserThreadStart [0x0x7ff9b338af08+40]\n",
      "\n"
     ]
    }
   ],
   "source": [
    "import os\n",
    "import time\n",
    "import traceback\n",
    "import requests\n",
    "from selenium import webdriver\n",
    "from selenium.webdriver.chrome.service import Service\n",
    "from selenium.webdriver.chrome.options import Options\n",
    "from selenium.webdriver.support.ui import WebDriverWait, Select\n",
    "from selenium.webdriver.support import expected_conditions as EC\n",
    "from selenium.webdriver.common.by import By\n",
    "import re\n",
    "\n",
    "# === Settings ===\n",
    "DOWNLOAD_DIR = \"contracts\"\n",
    "os.makedirs(DOWNLOAD_DIR, exist_ok=True)  # ensure folder exists\n",
    "\n",
    "# === Remove Gem popups ===\n",
    "def remove_popups(driver):\n",
    "    for popup_id in [\"gemmy-text-item\", \"flox-text-item\", \"gemmyIcon\"]:\n",
    "        try:\n",
    "            driver.execute_script(f\"document.getElementById('{popup_id}')?.remove();\")\n",
    "        except:\n",
    "            pass\n",
    "\n",
    "# === Initialize Chrome WebDriver ===\n",
    "def init_driver():\n",
    "    options = Options()\n",
    "    options.add_argument(\"--disable-notifications\")\n",
    "    options.add_argument(\"--start-maximized\")\n",
    "    # If ChromeDriver not in PATH, set CHROMEDRIVER_PATH env var\n",
    "    chromedriver_path = os.getenv(\"CHROMEDRIVER_PATH\")\n",
    "    try:\n",
    "        if chromedriver_path:\n",
    "            service = Service(executable_path=chromedriver_path)\n",
    "            drv = webdriver.Chrome(service=service, options=options)\n",
    "        else:\n",
    "            drv = webdriver.Chrome(options=options)\n",
    "        return drv\n",
    "    except Exception:\n",
    "        print(\"❌ Failed to launch Chrome. Ensure ChromeDriver is installed and matches Chrome version.\")\n",
    "        traceback.print_exc()\n",
    "        return None\n",
    "\n",
    "driver = init_driver()\n",
    "if not driver:\n",
    "    exit(1)\n",
    "\n",
    "wait = WebDriverWait(driver, 60)\n",
    "\n",
    "try:\n",
    "    # 1. Open GeM contracts page\n",
    "    driver.get(\"https://gem.gov.in/view_contracts\")\n",
    "    time.sleep(2)\n",
    "    remove_popups(driver)\n",
    "\n",
    "    # 2. Select category (adjust as needed)\n",
    "    products_name = \"Cardiac Troponin T TEST KIT\"\n",
    "    dropdown = Select(wait.until(EC.presence_of_element_located((By.ID, 'buyer_category'))))\n",
    "    dropdown.select_by_visible_text(products_name)\n",
    "    time.sleep(1)\n",
    "    remove_popups(driver)\n",
    "\n",
    "    # 3. Select date: 1 Jan 2024 (adjust if needed)\n",
    "    date_input = wait.until(EC.element_to_be_clickable((By.ID, 'from_date_contract_search1')))\n",
    "    driver.execute_script(\"arguments[0].scrollIntoView({block:'center'});\", date_input)\n",
    "    date_input.click()\n",
    "    Select(wait.until(EC.presence_of_element_located((By.CLASS_NAME, 'ui-datepicker-year')))).select_by_visible_text(\"2024\")\n",
    "    Select(wait.until(EC.presence_of_element_located((By.CLASS_NAME, 'ui-datepicker-month')))).select_by_visible_text(\"Jan\")\n",
    "    wait.until(EC.element_to_be_clickable((By.XPATH, '//a[text()=\"1\"]'))).click()\n",
    "    remove_popups(driver)\n",
    "    time.sleep(1)\n",
    "\n",
    "    # === First CAPTCHA: manual entry ===\n",
    "    wait.until(EC.presence_of_element_located((By.ID, 'captchaimg1')))\n",
    "    print(\"🔐 Please manually read and enter the CAPTCHA shown in the browser for the first step.\")\n",
    "    input(\"After entering the first CAPTCHA in the browser and clicking Search, press Enter here to continue...\")\n",
    "\n",
    "    # Wait for results table\n",
    "    try:\n",
    "        wait.until(EC.presence_of_element_located((By.ID, \"pagi_content\")))\n",
    "        print(\"✅ Detected results after manual CAPTCHA entry.\")\n",
    "    except:\n",
    "        print(\"❌ Results not found after manual CAPTCHA. Exiting.\")\n",
    "        driver.quit()\n",
    "        exit(1)\n",
    "\n",
    "    remove_popups(driver)\n",
    "\n",
    "    # 4. Gather all contract links on the page\n",
    "    anchors = driver.find_elements(By.XPATH, \"//a[contains(@onclick, 'openCap')]\")\n",
    "    print(f\"🔍 Found {len(anchors)} contracts on this page.\")\n",
    "\n",
    "    # 5. Loop through each contract\n",
    "    for idx in range(len(anchors)):\n",
    "        # Re-find anchors each iteration to avoid stale references\n",
    "        anchors = driver.find_elements(By.XPATH, \"//a[contains(@onclick, 'openCap')]\")\n",
    "        if idx >= len(anchors):\n",
    "            print(f\"⚠️ Index {idx} out of range; ending loop.\")\n",
    "            break\n",
    "        anchor = anchors[idx]\n",
    "\n",
    "        # Parse contract ID from onclick, for filename\n",
    "        onclick = anchor.get_attribute(\"onclick\") or \"\"\n",
    "        m = re.search(r\"openCap\\(['\\\"]([^'\\\"]+)['\\\"]\\)\", onclick)\n",
    "        if m:\n",
    "            cid = m.group(1)\n",
    "            fname = \"\".join(c for c in cid if c.isalnum() or c in \"-_\") + \".pdf\"\n",
    "        else:\n",
    "            cid = f\"contract_{idx+1}\"\n",
    "            fname = f\"{cid}.pdf\"\n",
    "\n",
    "        # Click to open popup\n",
    "        try:\n",
    "            driver.execute_script(\"arguments[0].scrollIntoView({block:'center'});\", anchor)\n",
    "            driver.execute_script(\"arguments[0].click();\", anchor)\n",
    "            print(f\"📄 Opened contract popup for ID {cid}\")\n",
    "        except Exception:\n",
    "            print(f\"⚠️ Cannot click contract {cid}; skipping.\")\n",
    "            continue\n",
    "\n",
    "        time.sleep(1)\n",
    "        remove_popups(driver)\n",
    "\n",
    "        # === Second CAPTCHA: manual entry ===\n",
    "        try:\n",
    "            wait.until(EC.presence_of_element_located((By.ID, 'captchaimg')))\n",
    "            print(f\"🔐 Please manually read and enter the CAPTCHA in the popup for contract {cid}.\")\n",
    "            input(f\"After entering the second CAPTCHA in browser for {cid} and clicking Submit/Open, press Enter here to continue...\")\n",
    "        except:\n",
    "            print(f\"❌ Second CAPTCHA image not found for {cid}; attempting to proceed.\")\n",
    "\n",
    "        # Wait for download button\n",
    "        download_btn = None\n",
    "        for attempt in range(5):\n",
    "            remove_popups(driver)\n",
    "            try:\n",
    "                download_btn = driver.find_element(By.CSS_SELECTOR, \".btn.btn-secondary\")\n",
    "            except:\n",
    "                download_btn = None\n",
    "            if download_btn:\n",
    "                break\n",
    "            time.sleep(1)\n",
    "        if not download_btn:\n",
    "            print(f\"❌ Download button not found for {cid}. Skipping.\")\n",
    "            # Close popup if possible\n",
    "            try:\n",
    "                driver.find_element(By.CLASS_NAME, \"close\").click()\n",
    "                time.sleep(1)\n",
    "                remove_popups(driver)\n",
    "            except:\n",
    "                pass\n",
    "            continue\n",
    "\n",
    "        # Download PDF into DOWNLOAD_DIR\n",
    "        pdf_link = download_btn.get_attribute(\"href\")\n",
    "        if not pdf_link:\n",
    "            print(f\"❌ Empty download link for {cid}; skipping.\")\n",
    "        else:\n",
    "            filepath = os.path.join(DOWNLOAD_DIR, fname)\n",
    "            try:\n",
    "                data = requests.get(pdf_link).content\n",
    "                with open(filepath, \"wb\") as f:\n",
    "                    f.write(data)\n",
    "                print(f\"✅ Downloaded: {filepath}\")\n",
    "            except Exception as e:\n",
    "                print(f\"❌ Error downloading PDF for {cid}: {e}\")\n",
    "\n",
    "        # Close popup before next\n",
    "        try:\n",
    "            driver.find_element(By.CLASS_NAME, \"close\").click()\n",
    "            time.sleep(1)\n",
    "            remove_popups(driver)\n",
    "        except:\n",
    "            pass\n",
    "\n",
    "except Exception as e:\n",
    "    print(\"❌ Error occurred:\")\n",
    "    traceback.print_exc()\n",
    "finally:\n",
    "    time.sleep(2)\n",
    "    driver.quit()\n"
   ]
  },
  {
   "cell_type": "code",
   "execution_count": null,
   "id": "ef167b03-8823-4886-aa29-6fb6f1ef26bd",
   "metadata": {},
   "outputs": [],
   "source": [
    "#PDF extraction"
   ]
  },
  {
   "cell_type": "code",
   "execution_count": 4,
   "id": "3be09cae-1395-4deb-ad36-b9de5d2e5395",
   "metadata": {},
   "outputs": [
    {
     "name": "stdout",
     "output_type": "stream",
     "text": [
      "Collecting camelot-py[cv]\n",
      "  Downloading camelot_py-1.0.0-py3-none-any.whl (66 kB)\n",
      "     -------------------------------------- 66.6/66.6 kB 893.9 kB/s eta 0:00:00\n",
      "Requirement already satisfied: pandas in c:\\users\\wishes lawrence\\anaconda3\\lib\\site-packages (2.2.3)\n",
      "Requirement already satisfied: pdfminer-six>=20240706 in c:\\users\\wishes lawrence\\anaconda3\\lib\\site-packages (from camelot-py[cv]) (20250327)\n",
      "Requirement already satisfied: typing-extensions>=4.12.2 in c:\\users\\wishes lawrence\\anaconda3\\lib\\site-packages (from camelot-py[cv]) (4.12.2)\n",
      "Collecting numpy>=1.24.4\n",
      "  Downloading numpy-2.2.6-cp310-cp310-win_amd64.whl (12.9 MB)\n",
      "     --------------------------------------- 12.9/12.9 MB 18.7 MB/s eta 0:00:00\n",
      "Collecting chardet>=5.1.0\n",
      "  Downloading chardet-5.2.0-py3-none-any.whl (199 kB)\n",
      "     ---------------------------------------- 199.4/199.4 kB ? eta 0:00:00\n",
      "Collecting opencv-python-headless>=4.7.0.68\n",
      "  Downloading opencv_python_headless-4.11.0.86-cp37-abi3-win_amd64.whl (39.4 MB)\n",
      "     --------------------------------------- 39.4/39.4 MB 18.7 MB/s eta 0:00:00\n",
      "Requirement already satisfied: openpyxl>=3.1.0 in c:\\users\\wishes lawrence\\anaconda3\\lib\\site-packages (from camelot-py[cv]) (3.1.4)\n",
      "Requirement already satisfied: click>=8.0.1 in c:\\users\\wishes lawrence\\anaconda3\\lib\\site-packages (from camelot-py[cv]) (8.1.7)\n",
      "Requirement already satisfied: tabulate>=0.9.0 in c:\\users\\wishes lawrence\\anaconda3\\lib\\site-packages (from camelot-py[cv]) (0.9.0)\n",
      "Collecting pypdf<4.0,>=3.17\n",
      "  Downloading pypdf-3.17.4-py3-none-any.whl (278 kB)\n",
      "     -------------------------------------- 278.2/278.2 kB 8.6 MB/s eta 0:00:00\n",
      "Requirement already satisfied: pypdfium2>=4 in c:\\users\\wishes lawrence\\anaconda3\\lib\\site-packages (from camelot-py[cv]) (4.30.1)\n",
      "Requirement already satisfied: tzdata>=2022.7 in c:\\users\\wishes lawrence\\anaconda3\\lib\\site-packages (from pandas) (2025.1)\n",
      "Requirement already satisfied: pytz>=2020.1 in c:\\users\\wishes lawrence\\anaconda3\\lib\\site-packages (from pandas) (2022.7)\n",
      "Requirement already satisfied: python-dateutil>=2.8.2 in c:\\users\\wishes lawrence\\anaconda3\\lib\\site-packages (from pandas) (2.8.2)\n",
      "Requirement already satisfied: colorama in c:\\users\\wishes lawrence\\anaconda3\\lib\\site-packages (from click>=8.0.1->camelot-py[cv]) (0.4.6)\n",
      "Requirement already satisfied: et-xmlfile in c:\\users\\wishes lawrence\\anaconda3\\lib\\site-packages (from openpyxl>=3.1.0->camelot-py[cv]) (1.1.0)\n",
      "Requirement already satisfied: cryptography>=36.0.0 in c:\\users\\wishes lawrence\\anaconda3\\lib\\site-packages (from pdfminer-six>=20240706->camelot-py[cv]) (39.0.1)\n",
      "Requirement already satisfied: charset-normalizer>=2.0.0 in c:\\users\\wishes lawrence\\anaconda3\\lib\\site-packages (from pdfminer-six>=20240706->camelot-py[cv]) (2.0.4)\n",
      "Requirement already satisfied: six>=1.5 in c:\\users\\wishes lawrence\\anaconda3\\lib\\site-packages (from python-dateutil>=2.8.2->pandas) (1.16.0)\n",
      "Requirement already satisfied: cffi>=1.12 in c:\\users\\wishes lawrence\\anaconda3\\lib\\site-packages (from cryptography>=36.0.0->pdfminer-six>=20240706->camelot-py[cv]) (1.15.1)\n",
      "Requirement already satisfied: pycparser in c:\\users\\wishes lawrence\\anaconda3\\lib\\site-packages (from cffi>=1.12->cryptography>=36.0.0->pdfminer-six>=20240706->camelot-py[cv]) (2.21)\n",
      "Installing collected packages: pypdf, numpy, chardet, opencv-python-headless, camelot-py\n",
      "  Attempting uninstall: numpy\n",
      "    Found existing installation: numpy 1.23.5\n",
      "    Uninstalling numpy-1.23.5:\n",
      "      Successfully uninstalled numpy-1.23.5\n",
      "  Attempting uninstall: chardet\n",
      "    Found existing installation: chardet 4.0.0\n",
      "    Uninstalling chardet-4.0.0:\n",
      "      Successfully uninstalled chardet-4.0.0\n",
      "Successfully installed camelot-py-1.0.0 chardet-5.2.0 numpy-2.2.6 opencv-python-headless-4.11.0.86 pypdf-3.17.4\n",
      "Note: you may need to restart the kernel to use updated packages.\n"
     ]
    },
    {
     "name": "stderr",
     "output_type": "stream",
     "text": [
      "WARNING: camelot-py 1.0.0 does not provide the extra 'cv'\n",
      "ERROR: pip's dependency resolver does not currently take into account all the packages that are installed. This behaviour is the source of the following dependency conflicts.\n",
      "gensim 4.3.0 requires FuzzyTM>=0.4.0, which is not installed.\n",
      "scipy 1.10.0 requires numpy<1.27.0,>=1.19.5, but you have numpy 2.2.6 which is incompatible.\n",
      "numba 0.56.4 requires numpy<1.24,>=1.18, but you have numpy 2.2.6 which is incompatible.\n"
     ]
    }
   ],
   "source": [
    "pip install camelot-py[cv] pandas\n"
   ]
  },
  {
   "cell_type": "code",
   "execution_count": 9,
   "id": "964baff8-6fd0-413c-96f1-459787a330de",
   "metadata": {},
   "outputs": [
    {
     "name": "stdout",
     "output_type": "stream",
     "text": [
      "Requirement already satisfied: pdfplumber in c:\\users\\wishes lawrence\\anaconda3\\lib\\site-packages (0.11.6)\n",
      "Collecting langdetect\n",
      "  Downloading langdetect-1.0.9.tar.gz (981 kB)\n",
      "     -------------------------------------- 981.5/981.5 kB 4.4 MB/s eta 0:00:00\n",
      "  Preparing metadata (setup.py): started\n",
      "  Preparing metadata (setup.py): finished with status 'done'\n",
      "Requirement already satisfied: pdfminer.six==20250327 in c:\\users\\wishes lawrence\\anaconda3\\lib\\site-packages (from pdfplumber) (20250327)\n",
      "Requirement already satisfied: pypdfium2>=4.18.0 in c:\\users\\wishes lawrence\\anaconda3\\lib\\site-packages (from pdfplumber) (4.30.1)\n",
      "Requirement already satisfied: Pillow>=9.1 in c:\\users\\wishes lawrence\\anaconda3\\lib\\site-packages (from pdfplumber) (9.4.0)\n",
      "Requirement already satisfied: cryptography>=36.0.0 in c:\\users\\wishes lawrence\\anaconda3\\lib\\site-packages (from pdfminer.six==20250327->pdfplumber) (39.0.1)\n",
      "Requirement already satisfied: charset-normalizer>=2.0.0 in c:\\users\\wishes lawrence\\anaconda3\\lib\\site-packages (from pdfminer.six==20250327->pdfplumber) (2.0.4)\n",
      "Requirement already satisfied: six in c:\\users\\wishes lawrence\\anaconda3\\lib\\site-packages (from langdetect) (1.16.0)\n",
      "Requirement already satisfied: cffi>=1.12 in c:\\users\\wishes lawrence\\anaconda3\\lib\\site-packages (from cryptography>=36.0.0->pdfminer.six==20250327->pdfplumber) (1.15.1)\n",
      "Requirement already satisfied: pycparser in c:\\users\\wishes lawrence\\anaconda3\\lib\\site-packages (from cffi>=1.12->cryptography>=36.0.0->pdfminer.six==20250327->pdfplumber) (2.21)\n",
      "Building wheels for collected packages: langdetect\n",
      "  Building wheel for langdetect (setup.py): started\n",
      "  Building wheel for langdetect (setup.py): finished with status 'done'\n",
      "  Created wheel for langdetect: filename=langdetect-1.0.9-py3-none-any.whl size=993253 sha256=35af1aa3843bc470ac414f7323a77a8392210e3ecb5af915d95492818534bff7\n",
      "  Stored in directory: c:\\users\\wishes lawrence\\appdata\\local\\pip\\cache\\wheels\\c4\\16\\af\\1889804d8b7c0c041cadee8e29673a938a332acbf2865c70a1\n",
      "Successfully built langdetect\n",
      "Installing collected packages: langdetect\n",
      "Successfully installed langdetect-1.0.9\n",
      "Note: you may need to restart the kernel to use updated packages.\n"
     ]
    }
   ],
   "source": [
    "pip install pdfplumber langdetect\n"
   ]
  },
  {
   "cell_type": "code",
   "execution_count": 10,
   "id": "3a4df07d-a857-4d76-8be7-2728299753f6",
   "metadata": {},
   "outputs": [
    {
     "name": "stderr",
     "output_type": "stream",
     "text": [
      "CropBox missing from /Page, defaulting to MediaBox\n",
      "CropBox missing from /Page, defaulting to MediaBox\n"
     ]
    },
    {
     "name": "stdout",
     "output_type": "stream",
     "text": [
      "Processing: GEMC-511687705215018.pdf\n"
     ]
    },
    {
     "name": "stderr",
     "output_type": "stream",
     "text": [
      "CropBox missing from /Page, defaulting to MediaBox\n",
      "CropBox missing from /Page, defaulting to MediaBox\n",
      "CropBox missing from /Page, defaulting to MediaBox\n",
      "CropBox missing from /Page, defaulting to MediaBox\n"
     ]
    },
    {
     "name": "stdout",
     "output_type": "stream",
     "text": [
      "Processing: GEMC-511687724462864.pdf\n"
     ]
    },
    {
     "name": "stderr",
     "output_type": "stream",
     "text": [
      "CropBox missing from /Page, defaulting to MediaBox\n",
      "CropBox missing from /Page, defaulting to MediaBox\n",
      "CropBox missing from /Page, defaulting to MediaBox\n",
      "CropBox missing from /Page, defaulting to MediaBox\n",
      "CropBox missing from /Page, defaulting to MediaBox\n"
     ]
    },
    {
     "name": "stdout",
     "output_type": "stream",
     "text": [
      "Processing: GEMC-511687732713185.pdf\n"
     ]
    },
    {
     "name": "stderr",
     "output_type": "stream",
     "text": [
      "CropBox missing from /Page, defaulting to MediaBox\n",
      "CropBox missing from /Page, defaulting to MediaBox\n",
      "CropBox missing from /Page, defaulting to MediaBox\n",
      "CropBox missing from /Page, defaulting to MediaBox\n",
      "CropBox missing from /Page, defaulting to MediaBox\n"
     ]
    },
    {
     "name": "stdout",
     "output_type": "stream",
     "text": [
      "Processing: GEMC-511687735673166.pdf\n"
     ]
    },
    {
     "name": "stderr",
     "output_type": "stream",
     "text": [
      "CropBox missing from /Page, defaulting to MediaBox\n",
      "CropBox missing from /Page, defaulting to MediaBox\n",
      "CropBox missing from /Page, defaulting to MediaBox\n",
      "CropBox missing from /Page, defaulting to MediaBox\n"
     ]
    },
    {
     "name": "stdout",
     "output_type": "stream",
     "text": [
      "Processing: GEMC-511687743877928.pdf\n"
     ]
    },
    {
     "name": "stderr",
     "output_type": "stream",
     "text": [
      "CropBox missing from /Page, defaulting to MediaBox\n",
      "CropBox missing from /Page, defaulting to MediaBox\n",
      "CropBox missing from /Page, defaulting to MediaBox\n",
      "CropBox missing from /Page, defaulting to MediaBox\n",
      "CropBox missing from /Page, defaulting to MediaBox\n"
     ]
    },
    {
     "name": "stdout",
     "output_type": "stream",
     "text": [
      "Processing: GEMC-511687746722318.pdf\n"
     ]
    },
    {
     "name": "stderr",
     "output_type": "stream",
     "text": [
      "CropBox missing from /Page, defaulting to MediaBox\n",
      "CropBox missing from /Page, defaulting to MediaBox\n",
      "CropBox missing from /Page, defaulting to MediaBox\n",
      "CropBox missing from /Page, defaulting to MediaBox\n",
      "CropBox missing from /Page, defaulting to MediaBox\n",
      "CropBox missing from /Page, defaulting to MediaBox\n"
     ]
    },
    {
     "name": "stdout",
     "output_type": "stream",
     "text": [
      "Processing: GEMC-511687747092428.pdf\n"
     ]
    },
    {
     "name": "stderr",
     "output_type": "stream",
     "text": [
      "CropBox missing from /Page, defaulting to MediaBox\n",
      "CropBox missing from /Page, defaulting to MediaBox\n",
      "CropBox missing from /Page, defaulting to MediaBox\n",
      "CropBox missing from /Page, defaulting to MediaBox\n",
      "CropBox missing from /Page, defaulting to MediaBox\n"
     ]
    },
    {
     "name": "stdout",
     "output_type": "stream",
     "text": [
      "Processing: GEMC-511687765493837.pdf\n"
     ]
    },
    {
     "name": "stderr",
     "output_type": "stream",
     "text": [
      "CropBox missing from /Page, defaulting to MediaBox\n",
      "CropBox missing from /Page, defaulting to MediaBox\n",
      "CropBox missing from /Page, defaulting to MediaBox\n",
      "CropBox missing from /Page, defaulting to MediaBox\n",
      "CropBox missing from /Page, defaulting to MediaBox\n"
     ]
    },
    {
     "name": "stdout",
     "output_type": "stream",
     "text": [
      "Processing: GEMC-511687766507433.pdf\n"
     ]
    },
    {
     "name": "stderr",
     "output_type": "stream",
     "text": [
      "CropBox missing from /Page, defaulting to MediaBox\n",
      "CropBox missing from /Page, defaulting to MediaBox\n",
      "CropBox missing from /Page, defaulting to MediaBox\n",
      "CropBox missing from /Page, defaulting to MediaBox\n",
      "CropBox missing from /Page, defaulting to MediaBox\n"
     ]
    },
    {
     "name": "stdout",
     "output_type": "stream",
     "text": [
      "Processing: GEMC-511687768766168.pdf\n"
     ]
    },
    {
     "name": "stderr",
     "output_type": "stream",
     "text": [
      "CropBox missing from /Page, defaulting to MediaBox\n",
      "CropBox missing from /Page, defaulting to MediaBox\n",
      "CropBox missing from /Page, defaulting to MediaBox\n",
      "CropBox missing from /Page, defaulting to MediaBox\n"
     ]
    },
    {
     "name": "stdout",
     "output_type": "stream",
     "text": [
      "Processing: GEMC-511687773054747.pdf\n"
     ]
    },
    {
     "name": "stderr",
     "output_type": "stream",
     "text": [
      "CropBox missing from /Page, defaulting to MediaBox\n",
      "CropBox missing from /Page, defaulting to MediaBox\n",
      "CropBox missing from /Page, defaulting to MediaBox\n",
      "CropBox missing from /Page, defaulting to MediaBox\n",
      "CropBox missing from /Page, defaulting to MediaBox\n"
     ]
    },
    {
     "name": "stdout",
     "output_type": "stream",
     "text": [
      "Processing: GEMC-511687783500712.pdf\n"
     ]
    },
    {
     "name": "stderr",
     "output_type": "stream",
     "text": [
      "CropBox missing from /Page, defaulting to MediaBox\n",
      "CropBox missing from /Page, defaulting to MediaBox\n",
      "CropBox missing from /Page, defaulting to MediaBox\n",
      "CropBox missing from /Page, defaulting to MediaBox\n",
      "CropBox missing from /Page, defaulting to MediaBox\n"
     ]
    },
    {
     "name": "stdout",
     "output_type": "stream",
     "text": [
      "Processing: GEMC-511687792641530.pdf\n"
     ]
    },
    {
     "name": "stderr",
     "output_type": "stream",
     "text": [
      "CropBox missing from /Page, defaulting to MediaBox\n",
      "CropBox missing from /Page, defaulting to MediaBox\n",
      "CropBox missing from /Page, defaulting to MediaBox\n",
      "CropBox missing from /Page, defaulting to MediaBox\n",
      "CropBox missing from /Page, defaulting to MediaBox\n"
     ]
    },
    {
     "name": "stdout",
     "output_type": "stream",
     "text": [
      "Processing: GEMC-511687796795695.pdf\n"
     ]
    },
    {
     "name": "stderr",
     "output_type": "stream",
     "text": [
      "CropBox missing from /Page, defaulting to MediaBox\n",
      "CropBox missing from /Page, defaulting to MediaBox\n",
      "CropBox missing from /Page, defaulting to MediaBox\n",
      "CropBox missing from /Page, defaulting to MediaBox\n",
      "CropBox missing from /Page, defaulting to MediaBox\n",
      "CropBox missing from /Page, defaulting to MediaBox\n"
     ]
    },
    {
     "name": "stdout",
     "output_type": "stream",
     "text": [
      "Processing: GEMC-511687798061545.pdf\n"
     ]
    },
    {
     "name": "stderr",
     "output_type": "stream",
     "text": [
      "CropBox missing from /Page, defaulting to MediaBox\n",
      "CropBox missing from /Page, defaulting to MediaBox\n",
      "CropBox missing from /Page, defaulting to MediaBox\n",
      "CropBox missing from /Page, defaulting to MediaBox\n",
      "CropBox missing from /Page, defaulting to MediaBox\n"
     ]
    },
    {
     "name": "stdout",
     "output_type": "stream",
     "text": [
      "Processing: GEMC-511687799934996.pdf\n"
     ]
    },
    {
     "name": "stderr",
     "output_type": "stream",
     "text": [
      "CropBox missing from /Page, defaulting to MediaBox\n",
      "CropBox missing from /Page, defaulting to MediaBox\n"
     ]
    },
    {
     "name": "stdout",
     "output_type": "stream",
     "text": [
      "✅ Extraction complete. Check the 'extracted_english_tables' folder.\n"
     ]
    }
   ],
   "source": [
    "import os\n",
    "import pdfplumber\n",
    "from langdetect import detect\n",
    "import csv\n",
    "\n",
    "# Folder path\n",
    "pdf_folder = r\"C:\\Users\\Wishes Lawrence\\contracts\"\n",
    "output_folder = r\"C:\\Users\\Wishes Lawrence\\contracts\\extracted_english_tables\"\n",
    "os.makedirs(output_folder, exist_ok=True)\n",
    "\n",
    "def is_english(text):\n",
    "    try:\n",
    "        return detect(text.strip()) == 'en'\n",
    "    except:\n",
    "        return False\n",
    "\n",
    "def extract_english_tables_from_pdf(pdf_path, output_csv_path):\n",
    "    with pdfplumber.open(pdf_path) as pdf:\n",
    "        with open(output_csv_path, mode='w', newline='', encoding='utf-8') as f:\n",
    "            writer = csv.writer(f)\n",
    "            for page in pdf.pages:\n",
    "                tables = page.extract_tables()\n",
    "                for table in tables:\n",
    "                    english_rows = [\n",
    "                        row for row in table \n",
    "                        if any(is_english(cell or '') for cell in row)\n",
    "                    ]\n",
    "                    if english_rows:\n",
    "                        writer.writerows(english_rows)\n",
    "                        writer.writerow([])  # Blank line between tables\n",
    "\n",
    "# Process all PDFs in the folder\n",
    "for file in os.listdir(pdf_folder):\n",
    "    if file.lower().endswith('.pdf'):\n",
    "        pdf_path = os.path.join(pdf_folder, file)\n",
    "        csv_filename = os.path.splitext(file)[0] + \"_english_tables.csv\"\n",
    "        output_csv = os.path.join(output_folder, csv_filename)\n",
    "        print(f\"Processing: {file}\")\n",
    "        extract_english_tables_from_pdf(pdf_path, output_csv)\n",
    "\n",
    "print(\"✅ Extraction complete. Check the 'extracted_english_tables' folder.\")\n"
   ]
  },
  {
   "cell_type": "code",
   "execution_count": null,
   "id": "493dba25-b8ed-48df-9ed1-98ccc7026d9a",
   "metadata": {},
   "outputs": [],
   "source": []
  },
  {
   "cell_type": "code",
   "execution_count": 11,
   "id": "8e50e522-35a1-454a-b096-25b1a6db97b9",
   "metadata": {},
   "outputs": [],
   "source": [
    "#PDF data in 1 folder"
   ]
  },
  {
   "cell_type": "markdown",
   "id": "6feb68e0-20b5-4fcc-bfaf-08310f8ebd5e",
   "metadata": {},
   "source": [
    "want to extract data from all pdfs and put in 1 single table\n",
    "data needed in in column format\n",
    "Organisation Details,Buyer Details,Seller Details .Item Description,Ordered  Quantity,Unit,Unit Price,Price,Consignee ,Email ID,Item,"
   ]
  },
  {
   "cell_type": "code",
   "execution_count": 12,
   "id": "d20938db-f8eb-4d9d-ae25-fd99fd83a5bf",
   "metadata": {},
   "outputs": [
    {
     "name": "stdout",
     "output_type": "stream",
     "text": [
      "Requirement already satisfied: pdfplumber in c:\\users\\wishes lawrence\\anaconda3\\lib\\site-packages (0.11.6)\n",
      "Requirement already satisfied: pandas in c:\\users\\wishes lawrence\\anaconda3\\lib\\site-packages (2.2.3)\n",
      "Requirement already satisfied: Pillow>=9.1 in c:\\users\\wishes lawrence\\anaconda3\\lib\\site-packages (from pdfplumber) (9.4.0)\n",
      "Requirement already satisfied: pypdfium2>=4.18.0 in c:\\users\\wishes lawrence\\anaconda3\\lib\\site-packages (from pdfplumber) (4.30.1)\n",
      "Requirement already satisfied: pdfminer.six==20250327 in c:\\users\\wishes lawrence\\anaconda3\\lib\\site-packages (from pdfplumber) (20250327)\n",
      "Requirement already satisfied: cryptography>=36.0.0 in c:\\users\\wishes lawrence\\anaconda3\\lib\\site-packages (from pdfminer.six==20250327->pdfplumber) (39.0.1)\n",
      "Requirement already satisfied: charset-normalizer>=2.0.0 in c:\\users\\wishes lawrence\\anaconda3\\lib\\site-packages (from pdfminer.six==20250327->pdfplumber) (2.0.4)\n",
      "Requirement already satisfied: tzdata>=2022.7 in c:\\users\\wishes lawrence\\anaconda3\\lib\\site-packages (from pandas) (2025.1)\n",
      "Requirement already satisfied: python-dateutil>=2.8.2 in c:\\users\\wishes lawrence\\anaconda3\\lib\\site-packages (from pandas) (2.8.2)\n",
      "Requirement already satisfied: numpy>=1.22.4 in c:\\users\\wishes lawrence\\anaconda3\\lib\\site-packages (from pandas) (2.2.6)\n",
      "Requirement already satisfied: pytz>=2020.1 in c:\\users\\wishes lawrence\\anaconda3\\lib\\site-packages (from pandas) (2022.7)\n",
      "Requirement already satisfied: six>=1.5 in c:\\users\\wishes lawrence\\anaconda3\\lib\\site-packages (from python-dateutil>=2.8.2->pandas) (1.16.0)\n",
      "Requirement already satisfied: cffi>=1.12 in c:\\users\\wishes lawrence\\anaconda3\\lib\\site-packages (from cryptography>=36.0.0->pdfminer.six==20250327->pdfplumber) (1.15.1)\n",
      "Requirement already satisfied: pycparser in c:\\users\\wishes lawrence\\anaconda3\\lib\\site-packages (from cffi>=1.12->cryptography>=36.0.0->pdfminer.six==20250327->pdfplumber) (2.21)\n",
      "Note: you may need to restart the kernel to use updated packages.\n"
     ]
    }
   ],
   "source": [
    "pip install pdfplumber pandas\n"
   ]
  },
  {
   "cell_type": "code",
   "execution_count": 13,
   "id": "3dce6c5d-7cd0-48e5-8be5-82908b714419",
   "metadata": {},
   "outputs": [
    {
     "name": "stderr",
     "output_type": "stream",
     "text": [
      "CropBox missing from /Page, defaulting to MediaBox\n",
      "CropBox missing from /Page, defaulting to MediaBox\n",
      "CropBox missing from /Page, defaulting to MediaBox\n",
      "CropBox missing from /Page, defaulting to MediaBox\n",
      "CropBox missing from /Page, defaulting to MediaBox\n",
      "CropBox missing from /Page, defaulting to MediaBox\n",
      "CropBox missing from /Page, defaulting to MediaBox\n",
      "CropBox missing from /Page, defaulting to MediaBox\n",
      "CropBox missing from /Page, defaulting to MediaBox\n",
      "CropBox missing from /Page, defaulting to MediaBox\n",
      "CropBox missing from /Page, defaulting to MediaBox\n",
      "CropBox missing from /Page, defaulting to MediaBox\n",
      "CropBox missing from /Page, defaulting to MediaBox\n",
      "CropBox missing from /Page, defaulting to MediaBox\n",
      "CropBox missing from /Page, defaulting to MediaBox\n",
      "CropBox missing from /Page, defaulting to MediaBox\n",
      "CropBox missing from /Page, defaulting to MediaBox\n",
      "CropBox missing from /Page, defaulting to MediaBox\n",
      "CropBox missing from /Page, defaulting to MediaBox\n",
      "CropBox missing from /Page, defaulting to MediaBox\n",
      "CropBox missing from /Page, defaulting to MediaBox\n",
      "CropBox missing from /Page, defaulting to MediaBox\n",
      "CropBox missing from /Page, defaulting to MediaBox\n",
      "CropBox missing from /Page, defaulting to MediaBox\n",
      "CropBox missing from /Page, defaulting to MediaBox\n",
      "CropBox missing from /Page, defaulting to MediaBox\n",
      "CropBox missing from /Page, defaulting to MediaBox\n",
      "CropBox missing from /Page, defaulting to MediaBox\n",
      "CropBox missing from /Page, defaulting to MediaBox\n",
      "CropBox missing from /Page, defaulting to MediaBox\n",
      "CropBox missing from /Page, defaulting to MediaBox\n",
      "CropBox missing from /Page, defaulting to MediaBox\n",
      "CropBox missing from /Page, defaulting to MediaBox\n",
      "CropBox missing from /Page, defaulting to MediaBox\n",
      "CropBox missing from /Page, defaulting to MediaBox\n",
      "CropBox missing from /Page, defaulting to MediaBox\n",
      "CropBox missing from /Page, defaulting to MediaBox\n",
      "CropBox missing from /Page, defaulting to MediaBox\n",
      "CropBox missing from /Page, defaulting to MediaBox\n",
      "CropBox missing from /Page, defaulting to MediaBox\n",
      "CropBox missing from /Page, defaulting to MediaBox\n",
      "CropBox missing from /Page, defaulting to MediaBox\n",
      "CropBox missing from /Page, defaulting to MediaBox\n",
      "CropBox missing from /Page, defaulting to MediaBox\n",
      "CropBox missing from /Page, defaulting to MediaBox\n",
      "CropBox missing from /Page, defaulting to MediaBox\n",
      "CropBox missing from /Page, defaulting to MediaBox\n",
      "CropBox missing from /Page, defaulting to MediaBox\n",
      "CropBox missing from /Page, defaulting to MediaBox\n",
      "CropBox missing from /Page, defaulting to MediaBox\n",
      "CropBox missing from /Page, defaulting to MediaBox\n",
      "CropBox missing from /Page, defaulting to MediaBox\n",
      "CropBox missing from /Page, defaulting to MediaBox\n",
      "CropBox missing from /Page, defaulting to MediaBox\n",
      "CropBox missing from /Page, defaulting to MediaBox\n",
      "CropBox missing from /Page, defaulting to MediaBox\n",
      "CropBox missing from /Page, defaulting to MediaBox\n",
      "CropBox missing from /Page, defaulting to MediaBox\n",
      "CropBox missing from /Page, defaulting to MediaBox\n",
      "CropBox missing from /Page, defaulting to MediaBox\n",
      "CropBox missing from /Page, defaulting to MediaBox\n",
      "CropBox missing from /Page, defaulting to MediaBox\n",
      "CropBox missing from /Page, defaulting to MediaBox\n",
      "CropBox missing from /Page, defaulting to MediaBox\n",
      "CropBox missing from /Page, defaulting to MediaBox\n",
      "CropBox missing from /Page, defaulting to MediaBox\n",
      "CropBox missing from /Page, defaulting to MediaBox\n",
      "CropBox missing from /Page, defaulting to MediaBox\n",
      "CropBox missing from /Page, defaulting to MediaBox\n",
      "CropBox missing from /Page, defaulting to MediaBox\n",
      "CropBox missing from /Page, defaulting to MediaBox\n",
      "CropBox missing from /Page, defaulting to MediaBox\n",
      "CropBox missing from /Page, defaulting to MediaBox\n",
      "CropBox missing from /Page, defaulting to MediaBox\n",
      "CropBox missing from /Page, defaulting to MediaBox\n",
      "CropBox missing from /Page, defaulting to MediaBox\n",
      "CropBox missing from /Page, defaulting to MediaBox\n",
      "CropBox missing from /Page, defaulting to MediaBox\n"
     ]
    },
    {
     "name": "stdout",
     "output_type": "stream",
     "text": [
      "✅ Done. All contract data saved to:\n",
      "C:\\Users\\Wishes Lawrence\\contracts\\combined_contract_data.xlsx\n"
     ]
    }
   ],
   "source": [
    "import os\n",
    "import pdfplumber\n",
    "import re\n",
    "import pandas as pd\n",
    "\n",
    "# Folder paths\n",
    "pdf_folder = r\"C:\\Users\\Wishes Lawrence\\contracts\"\n",
    "output_file = r\"C:\\Users\\Wishes Lawrence\\contracts\\combined_contract_data.xlsx\"\n",
    "\n",
    "# Target columns\n",
    "columns = [\n",
    "    'Organisation Details', 'Buyer Details', 'Seller Details', 'Item Description',\n",
    "    'Ordered Quantity', 'Unit', 'Unit Price', 'Price', 'Consignee', 'Email ID', 'Item'\n",
    "]\n",
    "\n",
    "# Helper function to extract block of text\n",
    "def extract_block(text, header):\n",
    "    match = re.search(header + r'[\\s\\S]{0,500}', text, re.IGNORECASE)\n",
    "    return match.group(0).strip() if match else ''\n",
    "\n",
    "# Process each PDF and collect rows\n",
    "rows = []\n",
    "for file in os.listdir(pdf_folder):\n",
    "    if file.lower().endswith(\".pdf\"):\n",
    "        file_path = os.path.join(pdf_folder, file)\n",
    "        with pdfplumber.open(file_path) as pdf:\n",
    "            full_text = ''\n",
    "            for page in pdf.pages:\n",
    "                full_text += page.extract_text() + '\\n'\n",
    "\n",
    "            # Extract fields\n",
    "            org = extract_block(full_text, r\"Organisation Details\")\n",
    "            buyer = extract_block(full_text, r\"Buyer Details\")\n",
    "            seller = extract_block(full_text, r\"Seller Details\")\n",
    "            item_desc = extract_block(full_text, r\"Item Description.*?:\\s*(.*)\")\n",
    "            qty_match = re.search(r\"Ordered\\s+Quantity\\s*([\\d,]+)\", full_text)\n",
    "            unit_match = re.search(r\"Unit\\s*:\\s*([^\\n]+)\", full_text)\n",
    "            unit_price_match = re.search(r\"Unit Price\\s*\\(INR\\)\\s*([0-9,]+)\", full_text)\n",
    "            price_match = re.search(r\"Inclusive of all Duties and Taxes in INR\\)?\\s*([0-9,]+)\", full_text)\n",
    "            consignee = extract_block(full_text, r\"Consignee Detail\")\n",
    "            email_match = re.search(r\"Email ID\\s*:\\s*([^\\s\\n]+@[^\\s\\n]+)\", full_text)\n",
    "            item = extract_block(full_text, r\"Product Specification for .*\")\n",
    "\n",
    "            rows.append({\n",
    "                'Organisation Details': org,\n",
    "                'Buyer Details': buyer,\n",
    "                'Seller Details': seller,\n",
    "                'Item Description': item_desc,\n",
    "                'Ordered Quantity': qty_match.group(1) if qty_match else '',\n",
    "                'Unit': unit_match.group(1).strip() if unit_match else '',\n",
    "                'Unit Price': unit_price_match.group(1).strip() if unit_price_match else '',\n",
    "                'Price': price_match.group(1).strip() if price_match else '',\n",
    "                'Consignee': consignee,\n",
    "                'Email ID': email_match.group(1).strip() if email_match else '',\n",
    "                'Item': item,\n",
    "            })\n",
    "\n",
    "# Save all data to CSV\n",
    "df = pd.DataFrame(rows, columns=columns)\n",
    "df.to_csv(output_file, index=False, encoding='utf-8-sig')\n",
    "\n",
    "print(f\"✅ Done. All contract data saved to:\\n{output_file}\")\n"
   ]
  },
  {
   "cell_type": "code",
   "execution_count": null,
   "id": "d0312fee-405d-4160-a086-a34ed27085d9",
   "metadata": {},
   "outputs": [],
   "source": []
  },
  {
   "cell_type": "code",
   "execution_count": 15,
   "id": "b2d7132f-0581-4851-8489-8e6a3cd92240",
   "metadata": {},
   "outputs": [
    {
     "name": "stdout",
     "output_type": "stream",
     "text": [
      "Requirement already satisfied: pdfplumber in c:\\users\\wishes lawrence\\anaconda3\\lib\\site-packages (0.11.6)Note: you may need to restart the kernel to use updated packages.\n",
      "\n",
      "Requirement already satisfied: pandas in c:\\users\\wishes lawrence\\anaconda3\\lib\\site-packages (2.2.3)\n",
      "Requirement already satisfied: langdetect in c:\\users\\wishes lawrence\\anaconda3\\lib\\site-packages (1.0.9)\n",
      "Requirement already satisfied: openpyxl in c:\\users\\wishes lawrence\\anaconda3\\lib\\site-packages (3.1.4)\n",
      "Requirement already satisfied: Pillow>=9.1 in c:\\users\\wishes lawrence\\anaconda3\\lib\\site-packages (from pdfplumber) (9.4.0)\n",
      "Requirement already satisfied: pdfminer.six==20250327 in c:\\users\\wishes lawrence\\anaconda3\\lib\\site-packages (from pdfplumber) (20250327)\n",
      "Requirement already satisfied: pypdfium2>=4.18.0 in c:\\users\\wishes lawrence\\anaconda3\\lib\\site-packages (from pdfplumber) (4.30.1)\n",
      "Requirement already satisfied: cryptography>=36.0.0 in c:\\users\\wishes lawrence\\anaconda3\\lib\\site-packages (from pdfminer.six==20250327->pdfplumber) (39.0.1)\n",
      "Requirement already satisfied: charset-normalizer>=2.0.0 in c:\\users\\wishes lawrence\\anaconda3\\lib\\site-packages (from pdfminer.six==20250327->pdfplumber) (2.0.4)\n",
      "Requirement already satisfied: python-dateutil>=2.8.2 in c:\\users\\wishes lawrence\\anaconda3\\lib\\site-packages (from pandas) (2.8.2)\n",
      "Requirement already satisfied: tzdata>=2022.7 in c:\\users\\wishes lawrence\\anaconda3\\lib\\site-packages (from pandas) (2025.1)\n",
      "Requirement already satisfied: pytz>=2020.1 in c:\\users\\wishes lawrence\\anaconda3\\lib\\site-packages (from pandas) (2022.7)\n",
      "Requirement already satisfied: numpy>=1.22.4 in c:\\users\\wishes lawrence\\anaconda3\\lib\\site-packages (from pandas) (2.2.6)\n",
      "Requirement already satisfied: six in c:\\users\\wishes lawrence\\anaconda3\\lib\\site-packages (from langdetect) (1.16.0)\n",
      "Requirement already satisfied: et-xmlfile in c:\\users\\wishes lawrence\\anaconda3\\lib\\site-packages (from openpyxl) (1.1.0)\n",
      "Requirement already satisfied: cffi>=1.12 in c:\\users\\wishes lawrence\\anaconda3\\lib\\site-packages (from cryptography>=36.0.0->pdfminer.six==20250327->pdfplumber) (1.15.1)\n",
      "Requirement already satisfied: pycparser in c:\\users\\wishes lawrence\\anaconda3\\lib\\site-packages (from cffi>=1.12->cryptography>=36.0.0->pdfminer.six==20250327->pdfplumber) (2.21)\n"
     ]
    }
   ],
   "source": [
    "pip install pdfplumber pandas langdetect openpyxl\n"
   ]
  },
  {
   "cell_type": "code",
   "execution_count": 26,
   "id": "ef8db47b-e704-41a2-bc40-04a655ea03b3",
   "metadata": {},
   "outputs": [
    {
     "name": "stderr",
     "output_type": "stream",
     "text": [
      "CropBox missing from /Page, defaulting to MediaBox\n",
      "CropBox missing from /Page, defaulting to MediaBox\n"
     ]
    },
    {
     "name": "stdout",
     "output_type": "stream",
     "text": [
      "Processing GEMC-511687705215018.pdf\n"
     ]
    },
    {
     "name": "stderr",
     "output_type": "stream",
     "text": [
      "CropBox missing from /Page, defaulting to MediaBox\n",
      "CropBox missing from /Page, defaulting to MediaBox\n",
      "CropBox missing from /Page, defaulting to MediaBox\n",
      "CropBox missing from /Page, defaulting to MediaBox\n"
     ]
    },
    {
     "name": "stdout",
     "output_type": "stream",
     "text": [
      "Processing GEMC-511687724462864.pdf\n"
     ]
    },
    {
     "name": "stderr",
     "output_type": "stream",
     "text": [
      "CropBox missing from /Page, defaulting to MediaBox\n",
      "CropBox missing from /Page, defaulting to MediaBox\n",
      "CropBox missing from /Page, defaulting to MediaBox\n",
      "CropBox missing from /Page, defaulting to MediaBox\n",
      "CropBox missing from /Page, defaulting to MediaBox\n"
     ]
    },
    {
     "name": "stdout",
     "output_type": "stream",
     "text": [
      "Processing GEMC-511687732713185.pdf\n"
     ]
    },
    {
     "name": "stderr",
     "output_type": "stream",
     "text": [
      "CropBox missing from /Page, defaulting to MediaBox\n",
      "CropBox missing from /Page, defaulting to MediaBox\n",
      "CropBox missing from /Page, defaulting to MediaBox\n",
      "CropBox missing from /Page, defaulting to MediaBox\n",
      "CropBox missing from /Page, defaulting to MediaBox\n"
     ]
    },
    {
     "name": "stdout",
     "output_type": "stream",
     "text": [
      "Processing GEMC-511687735673166.pdf\n"
     ]
    },
    {
     "name": "stderr",
     "output_type": "stream",
     "text": [
      "CropBox missing from /Page, defaulting to MediaBox\n",
      "CropBox missing from /Page, defaulting to MediaBox\n",
      "CropBox missing from /Page, defaulting to MediaBox\n",
      "CropBox missing from /Page, defaulting to MediaBox\n"
     ]
    },
    {
     "name": "stdout",
     "output_type": "stream",
     "text": [
      "Processing GEMC-511687743877928.pdf\n"
     ]
    },
    {
     "name": "stderr",
     "output_type": "stream",
     "text": [
      "CropBox missing from /Page, defaulting to MediaBox\n",
      "CropBox missing from /Page, defaulting to MediaBox\n",
      "CropBox missing from /Page, defaulting to MediaBox\n",
      "CropBox missing from /Page, defaulting to MediaBox\n",
      "CropBox missing from /Page, defaulting to MediaBox\n"
     ]
    },
    {
     "name": "stdout",
     "output_type": "stream",
     "text": [
      "Processing GEMC-511687746722318.pdf\n"
     ]
    },
    {
     "name": "stderr",
     "output_type": "stream",
     "text": [
      "CropBox missing from /Page, defaulting to MediaBox\n",
      "CropBox missing from /Page, defaulting to MediaBox\n",
      "CropBox missing from /Page, defaulting to MediaBox\n",
      "CropBox missing from /Page, defaulting to MediaBox\n",
      "CropBox missing from /Page, defaulting to MediaBox\n",
      "CropBox missing from /Page, defaulting to MediaBox\n"
     ]
    },
    {
     "name": "stdout",
     "output_type": "stream",
     "text": [
      "Processing GEMC-511687747092428.pdf\n"
     ]
    },
    {
     "name": "stderr",
     "output_type": "stream",
     "text": [
      "CropBox missing from /Page, defaulting to MediaBox\n",
      "CropBox missing from /Page, defaulting to MediaBox\n",
      "CropBox missing from /Page, defaulting to MediaBox\n",
      "CropBox missing from /Page, defaulting to MediaBox\n",
      "CropBox missing from /Page, defaulting to MediaBox\n"
     ]
    },
    {
     "name": "stdout",
     "output_type": "stream",
     "text": [
      "Processing GEMC-511687765493837.pdf\n"
     ]
    },
    {
     "name": "stderr",
     "output_type": "stream",
     "text": [
      "CropBox missing from /Page, defaulting to MediaBox\n",
      "CropBox missing from /Page, defaulting to MediaBox\n",
      "CropBox missing from /Page, defaulting to MediaBox\n",
      "CropBox missing from /Page, defaulting to MediaBox\n",
      "CropBox missing from /Page, defaulting to MediaBox\n"
     ]
    },
    {
     "name": "stdout",
     "output_type": "stream",
     "text": [
      "Processing GEMC-511687766507433.pdf\n"
     ]
    },
    {
     "name": "stderr",
     "output_type": "stream",
     "text": [
      "CropBox missing from /Page, defaulting to MediaBox\n",
      "CropBox missing from /Page, defaulting to MediaBox\n",
      "CropBox missing from /Page, defaulting to MediaBox\n",
      "CropBox missing from /Page, defaulting to MediaBox\n",
      "CropBox missing from /Page, defaulting to MediaBox\n"
     ]
    },
    {
     "name": "stdout",
     "output_type": "stream",
     "text": [
      "Processing GEMC-511687768766168.pdf\n"
     ]
    },
    {
     "name": "stderr",
     "output_type": "stream",
     "text": [
      "CropBox missing from /Page, defaulting to MediaBox\n",
      "CropBox missing from /Page, defaulting to MediaBox\n",
      "CropBox missing from /Page, defaulting to MediaBox\n",
      "CropBox missing from /Page, defaulting to MediaBox\n"
     ]
    },
    {
     "name": "stdout",
     "output_type": "stream",
     "text": [
      "Processing GEMC-511687773054747.pdf\n"
     ]
    },
    {
     "name": "stderr",
     "output_type": "stream",
     "text": [
      "CropBox missing from /Page, defaulting to MediaBox\n",
      "CropBox missing from /Page, defaulting to MediaBox\n",
      "CropBox missing from /Page, defaulting to MediaBox\n",
      "CropBox missing from /Page, defaulting to MediaBox\n",
      "CropBox missing from /Page, defaulting to MediaBox\n"
     ]
    },
    {
     "name": "stdout",
     "output_type": "stream",
     "text": [
      "Processing GEMC-511687783500712.pdf\n"
     ]
    },
    {
     "name": "stderr",
     "output_type": "stream",
     "text": [
      "CropBox missing from /Page, defaulting to MediaBox\n",
      "CropBox missing from /Page, defaulting to MediaBox\n",
      "CropBox missing from /Page, defaulting to MediaBox\n",
      "CropBox missing from /Page, defaulting to MediaBox\n",
      "CropBox missing from /Page, defaulting to MediaBox\n"
     ]
    },
    {
     "name": "stdout",
     "output_type": "stream",
     "text": [
      "Processing GEMC-511687792641530.pdf\n"
     ]
    },
    {
     "name": "stderr",
     "output_type": "stream",
     "text": [
      "CropBox missing from /Page, defaulting to MediaBox\n",
      "CropBox missing from /Page, defaulting to MediaBox\n",
      "CropBox missing from /Page, defaulting to MediaBox\n",
      "CropBox missing from /Page, defaulting to MediaBox\n",
      "CropBox missing from /Page, defaulting to MediaBox\n"
     ]
    },
    {
     "name": "stdout",
     "output_type": "stream",
     "text": [
      "Processing GEMC-511687796795695.pdf\n"
     ]
    },
    {
     "name": "stderr",
     "output_type": "stream",
     "text": [
      "CropBox missing from /Page, defaulting to MediaBox\n",
      "CropBox missing from /Page, defaulting to MediaBox\n",
      "CropBox missing from /Page, defaulting to MediaBox\n",
      "CropBox missing from /Page, defaulting to MediaBox\n",
      "CropBox missing from /Page, defaulting to MediaBox\n",
      "CropBox missing from /Page, defaulting to MediaBox\n"
     ]
    },
    {
     "name": "stdout",
     "output_type": "stream",
     "text": [
      "Processing GEMC-511687798061545.pdf\n"
     ]
    },
    {
     "name": "stderr",
     "output_type": "stream",
     "text": [
      "CropBox missing from /Page, defaulting to MediaBox\n",
      "CropBox missing from /Page, defaulting to MediaBox\n",
      "CropBox missing from /Page, defaulting to MediaBox\n",
      "CropBox missing from /Page, defaulting to MediaBox\n",
      "CropBox missing from /Page, defaulting to MediaBox\n"
     ]
    },
    {
     "name": "stdout",
     "output_type": "stream",
     "text": [
      "Processing GEMC-511687799934996.pdf\n"
     ]
    },
    {
     "name": "stderr",
     "output_type": "stream",
     "text": [
      "CropBox missing from /Page, defaulting to MediaBox\n",
      "CropBox missing from /Page, defaulting to MediaBox\n"
     ]
    },
    {
     "name": "stdout",
     "output_type": "stream",
     "text": [
      "Done. Excel saved to: C:\\Users\\Wishes Lawrence\\contracts\\all_contracts_extracted1.xlsx\n"
     ]
    }
   ],
   "source": [
    "import os\n",
    "import re\n",
    "import pdfplumber\n",
    "import pandas as pd\n",
    "\n",
    "# === Configuration ===\n",
    "folder_path = r\"C:\\Users\\Wishes Lawrence\\contracts\"\n",
    "output_excel = os.path.join(folder_path, \"all_contracts_extracted1.xlsx\")\n",
    "\n",
    "columns = [\n",
    "    \"Contract No\",\n",
    "    \"Organisation Details\",\n",
    "    \"Buyer Details\",\n",
    "    \"Seller Details\",\n",
    "    \"Product Details\"\n",
    "]\n",
    "\n",
    "def normalize_text(text: str) -> str:\n",
    "    # Remove zero-width/BOM\n",
    "    text = re.sub(r'[\\u200B-\\u200D\\uFEFF]', '', text)\n",
    "    # Collapse repeated ASCII letters\n",
    "    text = re.sub(r'([A-Za-z])\\1+', r'\\1', text)\n",
    "    # Normalize spaces/newlines\n",
    "    text = re.sub(r'[ \\t]+', ' ', text)\n",
    "    text = re.sub(r'\\r\\n?', '\\n', text)\n",
    "    return text\n",
    "\n",
    "def extract_contract_no(full_text: str) -> str:\n",
    "    m = re.search(r\"(GEMC-\\d+)\", full_text)\n",
    "    return m.group(1) if m else \"\"\n",
    "\n",
    "def get_english_segment(line: str) -> str:\n",
    "    parts = [p.strip() for p in line.split('|') if p.strip()]\n",
    "    for p in parts:\n",
    "        if re.search(r'[A-Za-z]', p) and not re.search(r'[\\u0900-\\u097F]', p):\n",
    "            return p\n",
    "    return \"\"\n",
    "\n",
    "def extract_section_lines(full_text: str) -> dict:\n",
    "    lines = full_text.splitlines()\n",
    "    # Build list of (orig_line, english_segment)\n",
    "    parsed = []\n",
    "    for line in lines:\n",
    "        stripped = line.strip()\n",
    "        if not stripped:\n",
    "            parsed.append((line, \"\"))\n",
    "        else:\n",
    "            eng = get_english_segment(stripped)\n",
    "            parsed.append((line, eng or \"\"))\n",
    "    # Find indices where english_segment contains the heading keywords\n",
    "    idxs = {}\n",
    "    for i, (_, eng) in enumerate(parsed):\n",
    "        low = eng.lower()\n",
    "        if \"organisation details\" in low:\n",
    "            idxs[\"org\"] = i\n",
    "        elif \"buyer details\" in low:\n",
    "            idxs[\"buyer\"] = i\n",
    "        elif \"seller details\" in low:\n",
    "            idxs[\"seller\"] = i\n",
    "        elif \"product details\" in low or \"product details\" in low or \"product detail\" in low:\n",
    "            idxs[\"product\"] = i\n",
    "    sections = {\"org\": [], \"buyer\": [], \"seller\": [], \"product\": []}\n",
    "    if not idxs:\n",
    "        return sections\n",
    "    # Sort headings by position\n",
    "    found = sorted(idxs.items(), key=lambda x: x[1])\n",
    "    for idx in range(len(found)):\n",
    "        key, start_i = found[idx]\n",
    "        end_i = len(parsed)\n",
    "        if idx+1 < len(found):\n",
    "            _, next_i = found[idx+1]\n",
    "            end_i = next_i\n",
    "        collected = []\n",
    "        for j in range(start_i+1, end_i):\n",
    "            eng = parsed[j][1]\n",
    "            if eng:\n",
    "                collected.append(eng.strip())\n",
    "        sections[key] = collected\n",
    "    return sections\n",
    "\n",
    "all_rows = []\n",
    "\n",
    "for fname in os.listdir(folder_path):\n",
    "    if not fname.lower().endswith(\".pdf\"):\n",
    "        continue\n",
    "    path = os.path.join(folder_path, fname)\n",
    "    print(\"Processing\", fname)\n",
    "    try:\n",
    "        with pdfplumber.open(path) as pdf:\n",
    "            pages = []\n",
    "            for page in pdf.pages:\n",
    "                txt = page.extract_text()\n",
    "                if txt:\n",
    "                    pages.append(normalize_text(txt))\n",
    "            full_text = \"\\n\".join(pages)\n",
    "\n",
    "            contract_no = extract_contract_no(full_text)\n",
    "            secs = extract_section_lines(full_text)\n",
    "            org_text = \"\\n\".join(secs.get(\"org\", [])).strip()\n",
    "            buyer_text = \"\\n\".join(secs.get(\"buyer\", [])).strip()\n",
    "            seller_text = \"\\n\".join(secs.get(\"seller\", [])).strip()\n",
    "            product_text = \"\\n\".join(secs.get(\"product\", [])).strip()\n",
    "\n",
    "            all_rows.append({\n",
    "                \"Contract No\": contract_no,\n",
    "                \"Organisation Details\": org_text,\n",
    "                \"Buyer Details\": buyer_text,\n",
    "                \"Seller Details\": seller_text,\n",
    "                \"Product Details\": product_text\n",
    "            })\n",
    "    except Exception as e:\n",
    "        print(f\"  Error: {e}\")\n",
    "\n",
    "df = pd.DataFrame(all_rows, columns=columns)\n",
    "df.to_excel(output_excel, index=False)\n",
    "print(\"Done. Excel saved to:\", output_excel)\n"
   ]
  },
  {
   "cell_type": "code",
   "execution_count": null,
   "id": "dbc0b51d-7737-453d-bbb2-306a04f9979d",
   "metadata": {},
   "outputs": [],
   "source": []
  }
 ],
 "metadata": {
  "kernelspec": {
   "display_name": "Python 3 (ipykernel)",
   "language": "python",
   "name": "python3"
  },
  "language_info": {
   "codemirror_mode": {
    "name": "ipython",
    "version": 3
   },
   "file_extension": ".py",
   "mimetype": "text/x-python",
   "name": "python",
   "nbconvert_exporter": "python",
   "pygments_lexer": "ipython3",
   "version": "3.10.16"
  }
 },
 "nbformat": 4,
 "nbformat_minor": 5
}
